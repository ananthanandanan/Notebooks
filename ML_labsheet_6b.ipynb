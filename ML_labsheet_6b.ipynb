{
 "cells": [
  {
   "cell_type": "markdown",
   "metadata": {
    "id": "RZXqSWm2oES1"
   },
   "source": [
    "# LAB 6 - Decision Tree\n",
    "Akshay V\n",
    "\n",
    "AM.EN.U4CSE19005"
   ]
  },
  {
   "cell_type": "code",
   "execution_count": 72,
   "metadata": {
    "id": "1aA1EjNZoCse"
   },
   "outputs": [],
   "source": [
    "#import statements\n",
    "import numpy as np\n",
    "import pandas as pd\n",
    "import random\n",
    "import math\n",
    "from math import log2\n",
    "import matplotlib.pyplot as plt\n",
    "from pandas.plotting import scatter_matrix\n",
    "from sklearn.model_selection import KFold, RepeatedKFold\n",
    "from sklearn.linear_model import LinearRegression\n",
    "from sklearn.metrics import max_error as ME,mean_absolute_error as MAE,mean_squared_error as MSE\n",
    "from sklearn.model_selection import train_test_split\n",
    "from mlxtend.plotting import plot_confusion_matrix\n",
    "from sklearn.metrics import accuracy_score\n",
    "from sklearn.metrics import classification_report\n",
    "from sklearn import metrics\n",
    "from sklearn.tree import DecisionTreeClassifier\n",
    "from sklearn import tree"
   ]
  },
  {
   "cell_type": "code",
   "execution_count": 204,
   "metadata": {
    "colab": {
     "base_uri": "https://localhost:8080/",
     "height": 204
    },
    "id": "jbzk60wTYaZd",
    "outputId": "0179d498-eb8b-4ae4-d38c-c45be65efa2c"
   },
   "outputs": [
    {
     "data": {
      "text/html": [
       "<div>\n",
       "<style scoped>\n",
       "    .dataframe tbody tr th:only-of-type {\n",
       "        vertical-align: middle;\n",
       "    }\n",
       "\n",
       "    .dataframe tbody tr th {\n",
       "        vertical-align: top;\n",
       "    }\n",
       "\n",
       "    .dataframe thead th {\n",
       "        text-align: right;\n",
       "    }\n",
       "</style>\n",
       "<table border=\"1\" class=\"dataframe\">\n",
       "  <thead>\n",
       "    <tr style=\"text-align: right;\">\n",
       "      <th></th>\n",
       "      <th>buying_price</th>\n",
       "      <th>maint_price</th>\n",
       "      <th>doors</th>\n",
       "      <th>capacity</th>\n",
       "      <th>lug_boot</th>\n",
       "      <th>safety</th>\n",
       "      <th>target</th>\n",
       "    </tr>\n",
       "  </thead>\n",
       "  <tbody>\n",
       "    <tr>\n",
       "      <th>0</th>\n",
       "      <td>vhigh</td>\n",
       "      <td>vhigh</td>\n",
       "      <td>2</td>\n",
       "      <td>2</td>\n",
       "      <td>small</td>\n",
       "      <td>low</td>\n",
       "      <td>unacc</td>\n",
       "    </tr>\n",
       "    <tr>\n",
       "      <th>1</th>\n",
       "      <td>vhigh</td>\n",
       "      <td>vhigh</td>\n",
       "      <td>2</td>\n",
       "      <td>2</td>\n",
       "      <td>small</td>\n",
       "      <td>med</td>\n",
       "      <td>unacc</td>\n",
       "    </tr>\n",
       "    <tr>\n",
       "      <th>2</th>\n",
       "      <td>vhigh</td>\n",
       "      <td>vhigh</td>\n",
       "      <td>2</td>\n",
       "      <td>2</td>\n",
       "      <td>small</td>\n",
       "      <td>high</td>\n",
       "      <td>unacc</td>\n",
       "    </tr>\n",
       "    <tr>\n",
       "      <th>3</th>\n",
       "      <td>vhigh</td>\n",
       "      <td>vhigh</td>\n",
       "      <td>2</td>\n",
       "      <td>2</td>\n",
       "      <td>med</td>\n",
       "      <td>low</td>\n",
       "      <td>unacc</td>\n",
       "    </tr>\n",
       "    <tr>\n",
       "      <th>4</th>\n",
       "      <td>vhigh</td>\n",
       "      <td>vhigh</td>\n",
       "      <td>2</td>\n",
       "      <td>2</td>\n",
       "      <td>med</td>\n",
       "      <td>med</td>\n",
       "      <td>unacc</td>\n",
       "    </tr>\n",
       "  </tbody>\n",
       "</table>\n",
       "</div>"
      ],
      "text/plain": [
       "  buying_price  maint_price  doors  capacity  lug_boot  safety  target\n",
       "0        vhigh        vhigh      2         2     small     low   unacc\n",
       "1        vhigh        vhigh      2         2     small     med   unacc\n",
       "2        vhigh        vhigh      2         2     small    high   unacc\n",
       "3        vhigh        vhigh      2         2       med     low   unacc\n",
       "4        vhigh        vhigh      2         2       med     med   unacc"
      ]
     },
     "execution_count": 204,
     "metadata": {},
     "output_type": "execute_result"
    }
   ],
   "source": [
    "#data Loading\n",
    "data = pd.read_csv('/content/drive/MyDrive/ML/Lab6/car.csv')\n",
    "X = pd.DataFrame(data)\n",
    "X.head()"
   ]
  },
  {
   "cell_type": "code",
   "execution_count": 189,
   "metadata": {
    "id": "DaloSsz5S4tt"
   },
   "outputs": [],
   "source": [
    "\n",
    "X[' maint_price'] = X[' maint_price'].replace({'vhigh' :3 , 'high' : 2, 'med' : 1, 'low':  0})\n",
    "X[' safety'] = X[' safety'].replace({'high' : 2, 'med' : 1, 'low':  0})\n",
    "X[' lug_boot'] = X[' lug_boot'].replace({'big' : 2, 'med' : 1, 'small':  0})\n",
    "X[' doors'] = X[' doors'].replace({'5more': 5})\n",
    "X[' capacity'] = X[' capacity'].replace({'more': 5})\n",
    "X['buying_price'] = X['buying_price'].replace({'vhigh' :3 , 'high' : 2, 'med' : 1, 'low':  0})"
   ]
  },
  {
   "cell_type": "code",
   "execution_count": 95,
   "metadata": {
    "id": "daQwd31wuAMO"
   },
   "outputs": [],
   "source": [
    "#selection of columns\n",
    "x=X.iloc[:,0:]\n",
    "del x[' target']\n",
    "y=X[' target']"
   ]
  },
  {
   "cell_type": "markdown",
   "metadata": {
    "id": "IHqsh2Wt5voH"
   },
   "source": [
    "### 2. Define a function to calculate the entropy of a dataset, S, based on the target variable. \n",
    "\n",
    " \n",
    "\n",
    "              Entropy(S) = ∑pilog(pi)\n",
    " \n",
    " \n",
    "\n",
    " \n",
    "\n",
    "Where pi is the probability of class i "
   ]
  },
  {
   "cell_type": "code",
   "execution_count": 17,
   "metadata": {
    "colab": {
     "base_uri": "https://localhost:8080/"
    },
    "id": "71glS2cf32dl",
    "outputId": "dac72548-58be-4c48-f5b4-ac0c68ce507f"
   },
   "outputs": [
    {
     "data": {
      "text/plain": [
       "unacc    1210\n",
       "acc       384\n",
       "good       69\n",
       "vgood      65\n",
       "Name:  target, dtype: int64"
      ]
     },
     "execution_count": 17,
     "metadata": {},
     "output_type": "execute_result"
    }
   ],
   "source": [
    "counts = y.value_counts()\n",
    "total = y.count()\n",
    "counts"
   ]
  },
  {
   "cell_type": "code",
   "execution_count": 20,
   "metadata": {
    "id": "ubYx8mEA7DJL"
   },
   "outputs": [],
   "source": [
    "# proportion of examples in each class\n",
    "unacc = counts[0]/total\n",
    "acc = counts[1]/total\n",
    "good = counts[2]/total\n",
    "vgood = counts[3]/tota"
   ]
  },
  {
   "cell_type": "code",
   "execution_count": 23,
   "metadata": {
    "id": "mFGZFodc81UL"
   },
   "outputs": [],
   "source": [
    "def Entropy(classes):\n",
    "  # calculate entropy\n",
    "  entropy = 0\n",
    "  for i in classes:\n",
    "    entropy += i * log2(i)\n",
    "  entropy *= -1\n",
    "  return entropy"
   ]
  },
  {
   "cell_type": "code",
   "execution_count": 133,
   "metadata": {
    "colab": {
     "base_uri": "https://localhost:8080/"
    },
    "id": "ZtbkVS4J7ff2",
    "outputId": "d2005c44-e2be-4831-848a-ceaab889317b"
   },
   "outputs": [
    {
     "name": "stdout",
     "output_type": "stream",
     "text": [
      "entropy: 1.206 bits\n"
     ]
    }
   ],
   "source": [
    "classes = [unacc, acc, good, vgood]\n",
    "entropy = Entropy(classes)\n",
    "# print the result\n",
    "print('entropy: %.3f bits' % entropy)"
   ]
  },
  {
   "cell_type": "markdown",
   "metadata": {
    "id": "m2Gd_JeVkqgN"
   },
   "source": [
    "### Consider ‘buying’ attribute of car dataset. Find unique values in the dataset for ‘buying’ attribute.  Find expected information gain when ‘buying’ attribute becomes known \n",
    "\n",
    " \n",
    "\n",
    " \n",
    "```\n",
    "Gain(S,buying)=Entropy(S)−1/∣∣∣S∣∣∣∑|Sv|Entropy(Sv)\n",
    " ```\n",
    " \n",
    "### Where Sv is the subset of dataset with v value in buying attribute. "
   ]
  },
  {
   "cell_type": "code",
   "execution_count": 166,
   "metadata": {
    "id": "RHGR8UVLmrFt"
   },
   "outputs": [],
   "source": [
    "def calc_entropy(column):\n",
    "    # Compute the counts of each unique value in the column\n",
    "    counts = np.bincount(column)\n",
    "    # Divide by the total column length to get a probability\n",
    "    prob = counts / len(column)\n",
    "    \n",
    "    # print(prob)\n",
    "    # Initialize the entropy to 0\n",
    "    entropy = 0\n",
    "    # Loop through the probabilities, and add each one to the total entropy\n",
    "    for i in prob:\n",
    "      if i > 0:\n",
    "        entropy += i * log2(i)\n",
    "    \n",
    "    return -entropy"
   ]
  },
  {
   "cell_type": "code",
   "execution_count": 167,
   "metadata": {
    "colab": {
     "base_uri": "https://localhost:8080/"
    },
    "id": "YpZ3ROQlk2rO",
    "outputId": "81f615a7-6eca-4e64-c422-3c7e052e1b7d"
   },
   "outputs": [
    {
     "name": "stdout",
     "output_type": "stream",
     "text": [
      "2.0\n"
     ]
    }
   ],
   "source": [
    "print(calc_entropy(x['buying_price']))"
   ]
  },
  {
   "cell_type": "code",
   "execution_count": 190,
   "metadata": {
    "id": "CMe-xW0Fu078"
   },
   "outputs": [],
   "source": [
    "X[' target'] = X[' target'].replace({'unacc' : 3 , 'acc' : 2, 'good' : 1, 'vgood':  0})"
   ]
  },
  {
   "cell_type": "code",
   "execution_count": 191,
   "metadata": {
    "colab": {
     "base_uri": "https://localhost:8080/"
    },
    "id": "T876-jC9vFdl",
    "outputId": "0d1b156d-54dd-4b1f-8911-64b36d5f9d66"
   },
   "outputs": [
    {
     "data": {
      "text/plain": [
       "3    1210\n",
       "2     384\n",
       "1      69\n",
       "0      65\n",
       "Name:  target, dtype: int64"
      ]
     },
     "execution_count": 191,
     "metadata": {},
     "output_type": "execute_result"
    }
   ],
   "source": [
    "X[' target'].value_counts()"
   ]
  },
  {
   "cell_type": "code",
   "execution_count": 168,
   "metadata": {
    "id": "pF0B_czoq1U-"
   },
   "outputs": [],
   "source": [
    "def calc_information_gain(data, split_name, target_name):\n",
    "    entropy = calc_entropy(data[target_name])\n",
    "    \n",
    "    values = data[split_name].unique()\n",
    "    \n",
    "    split = []\n",
    "    for i in values:\n",
    "      split.append(data[data[split_name] == i])\n",
    "    \n",
    "    sub = 0\n",
    "    for subset in split:\n",
    "        prob = (subset.shape[0] / data.shape[0]) \n",
    "        sub += prob * calc_entropy(subset[target_name])\n",
    "\n",
    "    return entropy - sub"
   ]
  },
  {
   "cell_type": "code",
   "execution_count": 192,
   "metadata": {
    "colab": {
     "base_uri": "https://localhost:8080/"
    },
    "id": "2DKwMQsnsuZF",
    "outputId": "64e911f9-8dce-4ad7-b434-ce27dd86b714"
   },
   "outputs": [
    {
     "data": {
      "text/plain": [
       "0.09644896916961354"
      ]
     },
     "execution_count": 192,
     "metadata": {},
     "output_type": "execute_result"
    }
   ],
   "source": [
    "calc_information_gain(X, 'buying_price', ' target')"
   ]
  },
  {
   "cell_type": "markdown",
   "metadata": {
    "id": "UFfaRayXtf61"
   },
   "source": [
    "### Repeat Q.3 for all attributes and find the attribute with maximum gain. "
   ]
  },
  {
   "cell_type": "code",
   "execution_count": 202,
   "metadata": {
    "id": "UlYc1PgJtfkV"
   },
   "outputs": [],
   "source": [
    "def highest_info_gain(columns):\n",
    "  information_gains = {}\n",
    "  \n",
    "  for col in columns[0:-1]:\n",
    "    information_gain = calc_information_gain(X, col, columns[-1])\n",
    "    information_gains[col] = information_gain             \n",
    "  return max(information_gains, key=information_gains.get)"
   ]
  },
  {
   "cell_type": "code",
   "execution_count": 203,
   "metadata": {
    "colab": {
     "base_uri": "https://localhost:8080/",
     "height": 35
    },
    "id": "NUqwIxB1uPhu",
    "outputId": "f26db64b-267a-42c3-dd8b-fdaa941f5abd"
   },
   "outputs": [
    {
     "data": {
      "application/vnd.google.colaboratory.intrinsic+json": {
       "type": "string"
      },
      "text/plain": [
       "' safety'"
      ]
     },
     "execution_count": 203,
     "metadata": {},
     "output_type": "execute_result"
    }
   ],
   "source": [
    "highest_info_gain(X.columns)"
   ]
  },
  {
   "cell_type": "markdown",
   "metadata": {
    "id": "Et6HGY1kQ-g8"
   },
   "source": [
    "### 4. Use the predefined function to do the training using decision tree. "
   ]
  },
  {
   "cell_type": "code",
   "execution_count": 96,
   "metadata": {
    "id": "_X8APzMux1_6"
   },
   "outputs": [],
   "source": [
    "X_train, X_test, Y_train, Y_test = train_test_split(x, y, test_size=0.3,random_state=10)"
   ]
  },
  {
   "cell_type": "code",
   "execution_count": 98,
   "metadata": {
    "colab": {
     "base_uri": "https://localhost:8080/"
    },
    "id": "qvKh41TJe-Sd",
    "outputId": "b76d4286-c974-48bb-b124-31c730c4f37e"
   },
   "outputs": [
    {
     "data": {
      "text/plain": [
       "DecisionTreeClassifier(ccp_alpha=0.0, class_weight=None, criterion='entropy',\n",
       "                       max_depth=3, max_features=None, max_leaf_nodes=None,\n",
       "                       min_impurity_decrease=0.0, min_impurity_split=None,\n",
       "                       min_samples_leaf=5, min_samples_split=2,\n",
       "                       min_weight_fraction_leaf=0.0, presort='deprecated',\n",
       "                       random_state=100, splitter='best')"
      ]
     },
     "execution_count": 98,
     "metadata": {},
     "output_type": "execute_result"
    }
   ],
   "source": [
    "clf_entropy = DecisionTreeClassifier(criterion = \"entropy\", random_state = 100,\n",
    " max_depth=3, min_samples_leaf=5)\n",
    "clf_entropy.fit(X_train, Y_train)"
   ]
  },
  {
   "cell_type": "code",
   "execution_count": 99,
   "metadata": {
    "id": "6e0qsCpCtRjG"
   },
   "outputs": [],
   "source": [
    "\n",
    "\n",
    "y_pred = clf_entropy.predict(X_test)"
   ]
  },
  {
   "cell_type": "code",
   "execution_count": 109,
   "metadata": {
    "colab": {
     "base_uri": "https://localhost:8080/"
    },
    "id": "YYgP2-4oy0_t",
    "outputId": "09646b53-e2cb-4909-ad50-52ca0d432452"
   },
   "outputs": [
    {
     "name": "stdout",
     "output_type": "stream",
     "text": [
      "Accuracy: 0.8073217726396917\n",
      "Precision: 0.7358209215145631\n",
      "Recall: 0.8073217726396917\n"
     ]
    },
    {
     "name": "stderr",
     "output_type": "stream",
     "text": [
      "/usr/local/lib/python3.7/dist-packages/sklearn/metrics/_classification.py:1272: UndefinedMetricWarning: Precision is ill-defined and being set to 0.0 in labels with no predicted samples. Use `zero_division` parameter to control this behavior.\n",
      "  _warn_prf(average, modifier, msg_start, len(result))\n"
     ]
    }
   ],
   "source": [
    "from sklearn import metrics\n",
    "\n",
    "print(\"Accuracy:\",metrics.accuracy_score(Y_test, y_pred))\n",
    "\n",
    "print(\"Precision:\",metrics.precision_score(Y_test, y_pred, average = 'weighted'))\n",
    "\n",
    "print(\"Recall:\",metrics.recall_score(Y_test, y_pred, average = 'weighted'))"
   ]
  },
  {
   "cell_type": "code",
   "execution_count": 110,
   "metadata": {
    "colab": {
     "base_uri": "https://localhost:8080/"
    },
    "id": "n0OyTY_ZyOcE",
    "outputId": "e8641ca3-6a46-42f9-de34-a3c1b528d813"
   },
   "outputs": [
    {
     "name": "stdout",
     "output_type": "stream",
     "text": [
      "              precision    recall  f1-score   support\n",
      "\n",
      "         acc       0.51      0.56      0.53       102\n",
      "        good       0.00      0.00      0.00        21\n",
      "       unacc       0.89      0.98      0.93       371\n",
      "       vgood       0.00      0.00      0.00        25\n",
      "\n",
      "    accuracy                           0.81       519\n",
      "   macro avg       0.35      0.38      0.37       519\n",
      "weighted avg       0.74      0.81      0.77       519\n",
      "\n"
     ]
    },
    {
     "name": "stderr",
     "output_type": "stream",
     "text": [
      "/usr/local/lib/python3.7/dist-packages/sklearn/metrics/_classification.py:1272: UndefinedMetricWarning: Precision and F-score are ill-defined and being set to 0.0 in labels with no predicted samples. Use `zero_division` parameter to control this behavior.\n",
      "  _warn_prf(average, modifier, msg_start, len(result))\n"
     ]
    }
   ],
   "source": [
    "print(metrics.classification_report(Y_test, y_pred))\n"
   ]
  },
  {
   "cell_type": "code",
   "execution_count": 111,
   "metadata": {
    "colab": {
     "base_uri": "https://localhost:8080/",
     "height": 500
    },
    "id": "sfox--jFyWiL",
    "outputId": "6831e6ee-faf6-4e89-8cae-a75d481fa24d"
   },
   "outputs": [
    {
     "data": {
      "image/png": "[encoded data removed]",
      "text/plain": [
       "<Figure size 504x504 with 1 Axes>"
      ]
     },
     "metadata": {
      "needs_background": "light"
     },
     "output_type": "display_data"
    }
   ],
   "source": [
    "conf_matrix = metrics.confusion_matrix(Y_test, y_pred)\n",
    "fig, ax = plot_confusion_matrix(conf_matrix, figsize=(7, 7), cmap=plt.cm.Reds)\n",
    "plt.xlabel('Prediction', fontsize=24)\n",
    "plt.ylabel('Actual', fontsize=24)\n",
    "plt.title('Confusion Matrix', fontsize=24)\n",
    "plt.show()"
   ]
  },
  {
   "cell_type": "markdown",
   "metadata": {
    "id": "gSB3K-BWiq09"
   },
   "source": []
  },
  {
   "cell_type": "markdown",
   "metadata": {
    "id": "88-a74OPixPH"
   },
   "source": [
    "### 5.Compare the results of Decision tree with kNN and Logistic regression.  "
   ]
  },
  {
   "cell_type": "markdown",
   "metadata": {
    "id": "Z5kpA4CD2Dki"
   },
   "source": [
    "#### KNN"
   ]
  },
  {
   "cell_type": "code",
   "execution_count": 112,
   "metadata": {
    "id": "Q8gOAiDQ2DMb"
   },
   "outputs": [],
   "source": [
    "from sklearn.neighbors import KNeighborsClassifier\n",
    "\n",
    "knn = KNeighborsClassifier(n_neighbors=3)\n",
    "\n",
    "\n",
    "knn.fit(X_train,Y_train)\n",
    "\n",
    "y_pred_KNN= knn.predict(X_test)"
   ]
  },
  {
   "cell_type": "code",
   "execution_count": 113,
   "metadata": {
    "colab": {
     "base_uri": "https://localhost:8080/"
    },
    "id": "HNu_mMDD2X0z",
    "outputId": "f4c3c9bf-f500-4695-f7d0-042770f831b2"
   },
   "outputs": [
    {
     "name": "stdout",
     "output_type": "stream",
     "text": [
      "Accuracy: 0.928709055876686\n",
      "Precision: 0.9377327761872941\n",
      "Recall: 0.928709055876686\n"
     ]
    }
   ],
   "source": [
    "print(\"Accuracy:\",metrics.accuracy_score(Y_test, y_pred_KNN))\n",
    "\n",
    "print(\"Precision:\",metrics.precision_score(Y_test, y_pred_KNN, average = 'weighted'))\n",
    "\n",
    "print(\"Recall:\",metrics.recall_score(Y_test, y_pred_KNN, average = 'weighted'))"
   ]
  },
  {
   "cell_type": "markdown",
   "metadata": {
    "id": "DhVXtlLe2kN_"
   },
   "source": [
    "#### Logistic Regression"
   ]
  },
  {
   "cell_type": "code",
   "execution_count": null,
   "metadata": {
    "id": "LEGqD1fK2rPb"
   },
   "outputs": [],
   "source": [
    "from sklearn.linear_model import LogisticRegression\n",
    "lr =LogisticRegression()\n",
    "lr.fit(X_train, Y_train)\n",
    "y_pred_LR = lr.predict(X_test)"
   ]
  },
  {
   "cell_type": "code",
   "execution_count": 115,
   "metadata": {
    "colab": {
     "base_uri": "https://localhost:8080/"
    },
    "id": "K689QY0_25wS",
    "outputId": "a10e61d9-d4f9-4e47-9558-1140a53fcf1c"
   },
   "outputs": [
    {
     "name": "stdout",
     "output_type": "stream",
     "text": [
      "Accuracy: 0.8689788053949904\n",
      "Precision: 0.8662753062860955\n",
      "Recall: 0.8689788053949904\n"
     ]
    }
   ],
   "source": [
    "print(\"Accuracy:\",metrics.accuracy_score(Y_test, y_pred_LR))\n",
    "\n",
    "print(\"Precision:\",metrics.precision_score(Y_test, y_pred_LR, average = 'weighted'))\n",
    "\n",
    "print(\"Recall:\",metrics.recall_score(Y_test, y_pred_LR, average = 'weighted'))"
   ]
  },
  {
   "cell_type": "markdown",
   "metadata": {
    "id": "1VaswICa3lHy"
   },
   "source": [
    "#### Compare DT, KNN and Logistic Regression"
   ]
  },
  {
   "cell_type": "code",
   "execution_count": 117,
   "metadata": {
    "colab": {
     "base_uri": "https://localhost:8080/"
    },
    "id": "2K2Jun9i3sx6",
    "outputId": "304939e7-99cc-493d-cf74-6e781346f3bd"
   },
   "outputs": [
    {
     "name": "stdout",
     "output_type": "stream",
     "text": [
      "Accuracy of DT: 0.8073217726396917\n",
      "Accuracy of KNN: 0.928709055876686\n",
      "Accuracy of LR : 0.8689788053949904\n",
      "\n",
      "Precision of DT: 0.7358209215145631\n",
      "Precision of KNN: 0.9377327761872941\n",
      "Precision of LR : 0.8662753062860955\n",
      "\n",
      "Recall of DT: 0.8073217726396917\n",
      "Recall of KNN: 0.928709055876686\n",
      "Recall of LR : 0.8689788053949904\n"
     ]
    },
    {
     "name": "stderr",
     "output_type": "stream",
     "text": [
      "/usr/local/lib/python3.7/dist-packages/sklearn/metrics/_classification.py:1272: UndefinedMetricWarning: Precision is ill-defined and being set to 0.0 in labels with no predicted samples. Use `zero_division` parameter to control this behavior.\n",
      "  _warn_prf(average, modifier, msg_start, len(result))\n"
     ]
    }
   ],
   "source": [
    "print(\"Accuracy of DT:\",metrics.accuracy_score(Y_test, y_pred))\n",
    "print(\"Accuracy of KNN:\",metrics.accuracy_score(Y_test, y_pred_KNN))\n",
    "print(\"Accuracy of LR :\",metrics.accuracy_score(Y_test, y_pred_LR))\n",
    "print()\n",
    "print(\"Precision of DT:\",metrics.precision_score(Y_test, y_pred, average = 'weighted'))\n",
    "print(\"Precision of KNN:\",metrics.precision_score(Y_test, y_pred_KNN, average = 'weighted'))\n",
    "print(\"Precision of LR :\",metrics.precision_score(Y_test, y_pred_LR, average = 'weighted'))\n",
    "print()\n",
    "print(\"Recall of DT:\",metrics.recall_score(Y_test, y_pred, average = 'weighted'))\n",
    "print(\"Recall of KNN:\",metrics.recall_score(Y_test, y_pred_KNN, average = 'weighted'))\n",
    "print(\"Recall of LR :\",metrics.recall_score(Y_test, y_pred_LR, average = 'weighted'))\n"
   ]
  }
 ],
 "metadata": {
  "colab": {
   "collapsed_sections": [],
   "name": "LAB_6_DT.ipynb",
   "provenance": []
  },
  "kernelspec": {
   "display_name": "Python 3",
   "language": "python",
   "name": "python3"
  },
  "language_info": {
   "codemirror_mode": {
    "name": "ipython",
    "version": 3
   },
   "file_extension": ".py",
   "mimetype": "text/x-python",
   "name": "python",
   "nbconvert_exporter": "python",
   "pygments_lexer": "ipython3",
   "version": "3.8.8"
  }
 },
 "nbformat": 4,
 "nbformat_minor": 1
}
