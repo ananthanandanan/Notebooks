{
 "cells": [
  {
   "cell_type": "code",
   "execution_count": 1,
   "id": "77afa615",
   "metadata": {},
   "outputs": [],
   "source": [
    "import random"
   ]
  },
  {
   "cell_type": "code",
   "execution_count": 2,
   "id": "16700efc",
   "metadata": {},
   "outputs": [],
   "source": [
    "members = 4\n",
    "participants = ['K.N.Ananthanandanan',\n",
    "'Shashank Priyadarshi',\n",
    "'Ashwin R',\n",
    "'Akshay V',\n",
    "'Akshay Praveen Nair',\n",
    "'Mayukh Deb',\n",
    "'Nehal Nevle',\n",
    "'Govind Goel',\n",
    "'Rishab Mudliar',\n",
    "'K Gopikrishna',\n",
    "'Arun Govind M',\n",
    "'Geo Jolly Cheeraamvelil',\n",
    "'susmanth',\n",
    "'Kavya Krishnan',\n",
    "'Arya A',\n",
    "'Kalidindi Bhavana',\n",
    "'Akshita Singh',\n",
    "'Anoushka Ramesh',\n",
    "'Lakshmi Warrier',\n",
    "'Pranavdhar',\n",
    "'R Adithya Kumar',\n",
    "'Jithin John',\n",
    "'Advaith A J',\n",
    "'AMAN KUMAR SINGH',\n",
    "'Akshat',\n",
    "'Bolisetty Sujith',\n",
    "'Somnath Sharma',\n",
    "'Jayakrishnan P A']"
   ]
  },
  {
   "cell_type": "code",
   "execution_count": 11,
   "id": "03b6a824",
   "metadata": {},
   "outputs": [
    {
     "data": {
      "text/plain": [
       "28"
      ]
     },
     "execution_count": 11,
     "metadata": {},
     "output_type": "execute_result"
    }
   ],
   "source": [
    "len(participants)"
   ]
  },
  {
   "cell_type": "code",
   "execution_count": 7,
   "id": "b6a1efe5",
   "metadata": {},
   "outputs": [
    {
     "name": "stdout",
     "output_type": "stream",
     "text": [
      "Group 1:\n",
      "\n",
      "K Gopikrishna\n",
      "Nehal Nevle\n",
      "susmanth\n",
      "Govind Goel\n",
      "Group 2:\n",
      "\n",
      "R Adithya Kumar\n",
      "Mayukh Deb\n",
      "Lakshmi Warrier\n",
      "Akshat\n",
      "Group 3:\n",
      "\n",
      "AMAN KUMAR SINGH\n",
      "Kalidindi Bhavana\n",
      "Bolisetty Sujith\n",
      "Somnath Sharma\n",
      "Group 4:\n",
      "\n",
      "Rishab Mudliar\n",
      "Kavya Krishnan\n",
      "Akshita Singh\n",
      "Shashank Priyadarshi\n",
      "Group 5:\n",
      "\n",
      "Ashwin R\n",
      "Arun Govind M\n",
      "K.N.Ananthanandanan\n",
      "Pranavdhar\n",
      "Group 6:\n",
      "\n",
      "Geo Jolly Cheeraamvelil\n",
      "Advaith A J\n",
      "Arya A\n",
      "Jithin John\n",
      "Group 7:\n",
      "\n",
      "Akshay Praveen Nair\n",
      "Jayakrishnan P A\n",
      "Anoushka Ramesh\n",
      "Akshay V\n",
      "Group 8:\n",
      "\n"
     ]
    }
   ],
   "source": [
    "random.shuffle(participants)\n",
    "for i in range(len(participants) // members + 1):\n",
    "    print('Group {}:'.format(i + 1))\n",
    "    print()\n",
    "    group = participants[i*members:i*members + members]\n",
    "    for participant in group:\n",
    "        print(participant)"
   ]
  }
 ],
 "metadata": {
  "kernelspec": {
   "display_name": "Python 3",
   "language": "python",
   "name": "python3"
  },
  "language_info": {
   "codemirror_mode": {
    "name": "ipython",
    "version": 3
   },
   "file_extension": ".py",
   "mimetype": "text/x-python",
   "name": "python",
   "nbconvert_exporter": "python",
   "pygments_lexer": "ipython3",
   "version": "3.8.8"
  }
 },
 "nbformat": 4,
 "nbformat_minor": 5
}
