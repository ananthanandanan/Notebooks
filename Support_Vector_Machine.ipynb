{
  "nbformat": 4,
  "nbformat_minor": 5,
  "metadata": {
    "kernelspec": {
      "display_name": "Python 3",
      "language": "python",
      "name": "python3"
    },
    "language_info": {
      "codemirror_mode": {
        "name": "ipython",
        "version": 3
      },
      "file_extension": ".py",
      "mimetype": "text/x-python",
      "name": "python",
      "nbconvert_exporter": "python",
      "pygments_lexer": "ipython3",
      "version": "3.8.8"
    },
    "colab": {
      "name": "Support Vector Machine.ipynb",
      "provenance": [],
      "collapsed_sections": []
    }
  },
  "cells": [
    {
      "cell_type": "markdown",
      "metadata": {
        "id": "5b0c02b2"
      },
      "source": [
        ""
      ],
      "id": "5b0c02b2"
    },
    {
      "cell_type": "code",
      "metadata": {
        "id": "f575dce0"
      },
      "source": [
        "#imports\n",
        "import numpy as np\n",
        "import pandas as pd\n",
        "import matplotlib.pyplot as plt\n",
        "import warnings\n",
        "warnings.filterwarnings(\"ignore\")"
      ],
      "id": "f575dce0",
      "execution_count": null,
      "outputs": []
    },
    {
      "cell_type": "code",
      "metadata": {
        "id": "70005824",
        "outputId": "2bce1fb0-d1d5-4dcc-ea5e-5efdb47c9d8a"
      },
      "source": [
        "x1 = np.array([1, 5, 1.5, 8, 1, 9])\n",
        "x2 = np.array([2, 8, 1.8, 8, 0.6, 11])\n",
        "plt.scatter(x1,x2)\n",
        "plt.xlabel('X1')\n",
        "plt.ylabel('X2')\n",
        "plt.show()"
      ],
      "id": "70005824",
      "execution_count": null,
      "outputs": [
        {
          "data": {
            "image/png": "[encoded data removed]",
            "text/plain": [
              "<Figure size 432x288 with 1 Axes>"
            ]
          },
          "metadata": {
            "needs_background": "light"
          },
          "output_type": "display_data"
        }
      ]
    },
    {
      "cell_type": "code",
      "metadata": {
        "id": "01689941"
      },
      "source": [
        "y = np.array([0,1,0,1,0,1])\n",
        "data = np.column_stack((x1,x2,y))"
      ],
      "id": "01689941",
      "execution_count": null,
      "outputs": []
    },
    {
      "cell_type": "code",
      "metadata": {
        "scrolled": true,
        "id": "3e5b6bc8",
        "outputId": "3deee351-7599-46ca-b446-67afa38c94d6"
      },
      "source": [
        "data"
      ],
      "id": "3e5b6bc8",
      "execution_count": null,
      "outputs": [
        {
          "data": {
            "text/plain": [
              "array([[ 1. ,  2. ,  0. ],\n",
              "       [ 5. ,  8. ,  1. ],\n",
              "       [ 1.5,  1.8,  0. ],\n",
              "       [ 8. ,  8. ,  1. ],\n",
              "       [ 1. ,  0.6,  0. ],\n",
              "       [ 9. , 11. ,  1. ]])"
            ]
          },
          "execution_count": 4,
          "metadata": {},
          "output_type": "execute_result"
        }
      ]
    },
    {
      "cell_type": "code",
      "metadata": {
        "id": "8d90702b",
        "outputId": "32561074-6ff7-414b-ecf4-ffd11f5b344f"
      },
      "source": [
        "X = data[:,0:2]\n",
        "X"
      ],
      "id": "8d90702b",
      "execution_count": null,
      "outputs": [
        {
          "data": {
            "text/plain": [
              "array([[ 1. ,  2. ],\n",
              "       [ 5. ,  8. ],\n",
              "       [ 1.5,  1.8],\n",
              "       [ 8. ,  8. ],\n",
              "       [ 1. ,  0.6],\n",
              "       [ 9. , 11. ]])"
            ]
          },
          "execution_count": 5,
          "metadata": {},
          "output_type": "execute_result"
        }
      ]
    },
    {
      "cell_type": "code",
      "metadata": {
        "id": "371471d2",
        "outputId": "abdb9e44-16e3-44e1-e157-3ab45358320c"
      },
      "source": [
        "y = data[:,-1]\n",
        "y"
      ],
      "id": "371471d2",
      "execution_count": null,
      "outputs": [
        {
          "data": {
            "text/plain": [
              "array([0., 1., 0., 1., 0., 1.])"
            ]
          },
          "execution_count": 6,
          "metadata": {},
          "output_type": "execute_result"
        }
      ]
    },
    {
      "cell_type": "code",
      "metadata": {
        "id": "842e1310",
        "outputId": "43562075-c0d9-40d9-803c-446f45ebd305"
      },
      "source": [
        "# import svm\n",
        "from sklearn import svm\n",
        "clf = svm.SVC(kernel = 'linear',C=1.0)\n",
        "clf.fit(X,y)"
      ],
      "id": "842e1310",
      "execution_count": null,
      "outputs": [
        {
          "data": {
            "text/plain": [
              "SVC(kernel='linear')"
            ]
          },
          "execution_count": 7,
          "metadata": {},
          "output_type": "execute_result"
        }
      ]
    },
    {
      "cell_type": "code",
      "metadata": {
        "id": "6c9ddd46",
        "outputId": "984bb42f-b590-44af-e06d-128b466488b0"
      },
      "source": [
        "print(clf.predict([[0.58,0.76]]))\n",
        "print(clf.predict([[10.58,10.76]]))"
      ],
      "id": "6c9ddd46",
      "execution_count": null,
      "outputs": [
        {
          "name": "stdout",
          "output_type": "stream",
          "text": [
            "[0.]\n",
            "[1.]\n"
          ]
        }
      ]
    },
    {
      "cell_type": "code",
      "metadata": {
        "id": "89d1fa59",
        "outputId": "38231116-d673-4631-8fd7-3cfe5f4f5318"
      },
      "source": [
        "w = clf.coef_[0]\n",
        "print(w)\n",
        "a = -w[0] / w[1]\n",
        "\n",
        "xx = np.linspace(0,12)\n",
        "yy = a * xx - clf.intercept_[0] / w[1]\n",
        "\n",
        "h0 = plt.plot(xx, yy, 'k-', label=\"non weighted div\")\n",
        "plt.scatter(X[:, 0], X[:, 1], c = y)\n",
        "plt.legend()\n",
        "plt.show()"
      ],
      "id": "89d1fa59",
      "execution_count": null,
      "outputs": [
        {
          "name": "stdout",
          "output_type": "stream",
          "text": [
            "[0.1380943  0.24462418]\n"
          ]
        },
        {
          "data": {
            "image/png": "[encoded data removed]",
            "text/plain": [
              "<Figure size 432x288 with 1 Axes>"
            ]
          },
          "metadata": {
            "needs_background": "light"
          },
          "output_type": "display_data"
        }
      ]
    },
    {
      "cell_type": "code",
      "metadata": {
        "id": "0d2adff6"
      },
      "source": [
        "# Support Vector Machine\n",
        "from sklearn import datasets\n",
        "from sklearn import metrics\n",
        "from sklearn.svm import SVC\n",
        "# load the  datasets\n",
        "dataset = datasets.load_iris()"
      ],
      "id": "0d2adff6",
      "execution_count": null,
      "outputs": []
    },
    {
      "cell_type": "code",
      "metadata": {
        "id": "97264b55",
        "outputId": "1518e741-fc4d-4f2e-e943-e7486b96447d"
      },
      "source": [
        "print(\"Features: \", dataset.feature_names)\n",
        "print(\"Labels: \", dataset.target_names)\n"
      ],
      "id": "97264b55",
      "execution_count": null,
      "outputs": [
        {
          "name": "stdout",
          "output_type": "stream",
          "text": [
            "Features:  ['sepal length (cm)', 'sepal width (cm)', 'petal length (cm)', 'petal width (cm)']\n",
            "Labels:  ['setosa' 'versicolor' 'virginica']\n"
          ]
        }
      ]
    },
    {
      "cell_type": "code",
      "metadata": {
        "id": "6d3d31fc",
        "outputId": "a28cce97-506a-4973-857e-6aa8b49954a6"
      },
      "source": [
        "# fit a SVM model to the data\n",
        "model = SVC()\n",
        "model.fit(dataset.data, dataset.target)\n",
        "print(model)"
      ],
      "id": "6d3d31fc",
      "execution_count": null,
      "outputs": [
        {
          "name": "stdout",
          "output_type": "stream",
          "text": [
            "SVC()\n"
          ]
        }
      ]
    },
    {
      "cell_type": "code",
      "metadata": {
        "id": "aaf976a4",
        "outputId": "64a67f1a-21ee-4f6d-b6eb-2856254e26f3"
      },
      "source": [
        "# make predictions\n",
        "expected = dataset.target\n",
        "predicted = model.predict(dataset.data)\n",
        "# summarize the fit of the model\n",
        "print(metrics.classification_report(expected, predicted))\n",
        "print(metrics.confusion_matrix(expected, predicted))\n",
        "print(\"Accuracy:\",metrics.accuracy_score(expected, predicted))"
      ],
      "id": "aaf976a4",
      "execution_count": null,
      "outputs": [
        {
          "name": "stdout",
          "output_type": "stream",
          "text": [
            "              precision    recall  f1-score   support\n",
            "\n",
            "           0       1.00      1.00      1.00        50\n",
            "           1       0.96      0.96      0.96        50\n",
            "           2       0.96      0.96      0.96        50\n",
            "\n",
            "    accuracy                           0.97       150\n",
            "   macro avg       0.97      0.97      0.97       150\n",
            "weighted avg       0.97      0.97      0.97       150\n",
            "\n",
            "[[50  0  0]\n",
            " [ 0 48  2]\n",
            " [ 0  2 48]]\n",
            "Accuracy: 0.9733333333333334\n"
          ]
        }
      ]
    },
    {
      "cell_type": "code",
      "metadata": {
        "id": "40390980"
      },
      "source": [
        "# K Nearest Neighbours\n",
        "from sklearn import datasets\n",
        "from sklearn import metrics\n",
        "from sklearn.neighbors import KNeighborsClassifier\n",
        "# load the  datasets\n",
        "dataset = datasets.load_iris()"
      ],
      "id": "40390980",
      "execution_count": null,
      "outputs": []
    },
    {
      "cell_type": "code",
      "metadata": {
        "id": "5bfca70c",
        "outputId": "15c4cff1-3f43-4a44-b81f-8175440d83c0"
      },
      "source": [
        "# fit a KNN model to the data\n",
        "knn = KNeighborsClassifier(n_neighbors=3)\n",
        "knn.fit(dataset.data, dataset.target)\n",
        "print(knn)"
      ],
      "id": "5bfca70c",
      "execution_count": null,
      "outputs": [
        {
          "name": "stdout",
          "output_type": "stream",
          "text": [
            "KNeighborsClassifier(n_neighbors=3)\n"
          ]
        }
      ]
    },
    {
      "cell_type": "code",
      "metadata": {
        "id": "53fa171f",
        "outputId": "b5d7d1b0-d398-40aa-e052-ec973e2eb748"
      },
      "source": [
        "# make predictions\n",
        "expected = dataset.target\n",
        "predicted = knn.predict(dataset.data)\n",
        "# summarize the fit of the model\n",
        "print(metrics.classification_report(expected, predicted))\n",
        "print(metrics.confusion_matrix(expected, predicted))\n",
        "print(\"Accuracy:\",metrics.accuracy_score(expected, predicted))"
      ],
      "id": "53fa171f",
      "execution_count": null,
      "outputs": [
        {
          "name": "stdout",
          "output_type": "stream",
          "text": [
            "              precision    recall  f1-score   support\n",
            "\n",
            "           0       1.00      1.00      1.00        50\n",
            "           1       0.94      0.94      0.94        50\n",
            "           2       0.94      0.94      0.94        50\n",
            "\n",
            "    accuracy                           0.96       150\n",
            "   macro avg       0.96      0.96      0.96       150\n",
            "weighted avg       0.96      0.96      0.96       150\n",
            "\n",
            "[[50  0  0]\n",
            " [ 0 47  3]\n",
            " [ 0  3 47]]\n",
            "Accuracy: 0.96\n"
          ]
        }
      ]
    },
    {
      "cell_type": "code",
      "metadata": {
        "id": "9fe6ecb7"
      },
      "source": [
        "# Logistic Regression\n",
        "from sklearn import datasets\n",
        "from sklearn import metrics\n",
        "from sklearn.linear_model import LogisticRegression\n",
        "# load the  datasets\n",
        "dataset = datasets.load_iris()"
      ],
      "id": "9fe6ecb7",
      "execution_count": null,
      "outputs": []
    },
    {
      "cell_type": "code",
      "metadata": {
        "id": "0e111f8c",
        "outputId": "fdfb1719-fc4a-47c3-b22f-ef6369c01195"
      },
      "source": [
        "# fit a log_reg model to the data\n",
        "log_reg = LogisticRegression()\n",
        "log_reg.fit(dataset.data, dataset.target)\n",
        "print(log_reg)\n"
      ],
      "id": "0e111f8c",
      "execution_count": null,
      "outputs": [
        {
          "name": "stdout",
          "output_type": "stream",
          "text": [
            "LogisticRegression()\n"
          ]
        }
      ]
    },
    {
      "cell_type": "code",
      "metadata": {
        "id": "631c769d",
        "outputId": "65f3e344-215a-4ac9-c625-28ee76e69e73"
      },
      "source": [
        "# make predictions\n",
        "expected = dataset.target\n",
        "predicted = log_reg.predict(dataset.data)\n",
        "# summarize the fit of the model\n",
        "print(metrics.classification_report(expected, predicted))\n",
        "print(metrics.confusion_matrix(expected, predicted))\n",
        "print(\"Accuracy:\",metrics.accuracy_score(expected, predicted))"
      ],
      "id": "631c769d",
      "execution_count": null,
      "outputs": [
        {
          "name": "stdout",
          "output_type": "stream",
          "text": [
            "              precision    recall  f1-score   support\n",
            "\n",
            "           0       1.00      1.00      1.00        50\n",
            "           1       0.98      0.94      0.96        50\n",
            "           2       0.94      0.98      0.96        50\n",
            "\n",
            "    accuracy                           0.97       150\n",
            "   macro avg       0.97      0.97      0.97       150\n",
            "weighted avg       0.97      0.97      0.97       150\n",
            "\n",
            "[[50  0  0]\n",
            " [ 0 47  3]\n",
            " [ 0  1 49]]\n",
            "Accuracy: 0.9733333333333334\n"
          ]
        }
      ]
    },
    {
      "cell_type": "code",
      "metadata": {
        "id": "e217e6c6",
        "outputId": "c624404f-351a-4478-d8dc-f20a0ab059f9"
      },
      "source": [
        "# Support Vector Machine\n",
        "from sklearn import datasets\n",
        "from sklearn import metrics\n",
        "from sklearn.svm import SVC\n",
        "# load the iris datasets\n",
        "dataset = datasets.load_iris()\n",
        "# fit a SVM model to the data\n",
        "model = SVC(kernel='rbf', gamma=0.7, C=5.0)\n",
        "model.fit(dataset.data, dataset.target)\n",
        "print(model)\n",
        "# make predictions\n",
        "expected = dataset.target\n",
        "predicted = model.predict(dataset.data)\n",
        "# summarize the fit of the model\n",
        "print(metrics.classification_report(expected, predicted))\n",
        "print(metrics.confusion_matrix(expected, predicted))\n",
        "print(\"Accuracy:\",metrics.accuracy_score(expected, predicted))"
      ],
      "id": "e217e6c6",
      "execution_count": null,
      "outputs": [
        {
          "name": "stdout",
          "output_type": "stream",
          "text": [
            "SVC(C=5.0, gamma=0.7)\n",
            "              precision    recall  f1-score   support\n",
            "\n",
            "           0       1.00      1.00      1.00        50\n",
            "           1       1.00      0.92      0.96        50\n",
            "           2       0.93      1.00      0.96        50\n",
            "\n",
            "    accuracy                           0.97       150\n",
            "   macro avg       0.98      0.97      0.97       150\n",
            "weighted avg       0.98      0.97      0.97       150\n",
            "\n",
            "[[50  0  0]\n",
            " [ 0 46  4]\n",
            " [ 0  0 50]]\n",
            "Accuracy: 0.9733333333333334\n"
          ]
        }
      ]
    },
    {
      "cell_type": "code",
      "metadata": {
        "id": "90c7c0f8",
        "outputId": "f3b3faaf-1cd9-4488-8eb8-b688e2921418"
      },
      "source": [
        "# Support Vector Machine\n",
        "from sklearn import datasets\n",
        "from sklearn import metrics\n",
        "from sklearn.svm import SVC\n",
        "# load the iris datasets\n",
        "dataset = datasets.load_iris()\n",
        "# fit a SVM model to the data\n",
        "model = SVC(kernel='poly', degree=3, C=5.0)\n",
        "model.fit(dataset.data, dataset.target)\n",
        "print(model)\n",
        "# make predictions\n",
        "expected = dataset.target\n",
        "predicted = model.predict(dataset.data)\n",
        "# summarize the fit of the model\n",
        "print(metrics.classification_report(expected, predicted))\n",
        "print(metrics.confusion_matrix(expected, predicted))\n",
        "print(\"Accuracy:\",metrics.accuracy_score(expected, predicted))"
      ],
      "id": "90c7c0f8",
      "execution_count": null,
      "outputs": [
        {
          "name": "stdout",
          "output_type": "stream",
          "text": [
            "SVC(C=5.0, kernel='poly')\n",
            "              precision    recall  f1-score   support\n",
            "\n",
            "           0       1.00      1.00      1.00        50\n",
            "           1       0.98      0.96      0.97        50\n",
            "           2       0.96      0.98      0.97        50\n",
            "\n",
            "    accuracy                           0.98       150\n",
            "   macro avg       0.98      0.98      0.98       150\n",
            "weighted avg       0.98      0.98      0.98       150\n",
            "\n",
            "[[50  0  0]\n",
            " [ 0 48  2]\n",
            " [ 0  1 49]]\n",
            "Accuracy: 0.98\n"
          ]
        }
      ]
    }
  ]
}