{
 "cells": [
  {
   "cell_type": "code",
   "execution_count": 37,
   "id": "e206ec27",
   "metadata": {},
   "outputs": [
    {
     "name": "stderr",
     "output_type": "stream",
     "text": [
      "[nltk_data] Downloading package punkt to /home/ananthan2k/nltk_data...\n",
      "[nltk_data]   Package punkt is already up-to-date!\n",
      "[nltk_data] Downloading package stopwords to\n",
      "[nltk_data]     /home/ananthan2k/nltk_data...\n",
      "[nltk_data]   Package stopwords is already up-to-date!\n",
      "[nltk_data] Downloading package wordnet to\n",
      "[nltk_data]     /home/ananthan2k/nltk_data...\n",
      "[nltk_data]   Package wordnet is already up-to-date!\n"
     ]
    }
   ],
   "source": [
    "import pandas as pd\n",
    "import numpy as np\n",
    "import matplotlib.pyplot as plt\n",
    "import os\n",
    "import nltk\n",
    "nltk.download('punkt')\n",
    "nltk.download('stopwords')\n",
    "nltk.download('wordnet')\n",
    "from nltk.stem import WordNetLemmatizer\n",
    "from nltk.corpus import stopwords\n",
    "from nltk.tokenize import word_tokenize, sent_tokenize\n",
    "from nltk.stem.snowball import SnowballStemmer\n",
    "from glove import Corpus, Glove"
   ]
  },
  {
   "cell_type": "markdown",
   "id": "d91ed6be",
   "metadata": {},
   "source": [
    "### Preprocessing"
   ]
  },
  {
   "cell_type": "code",
   "execution_count": 38,
   "id": "5409e689",
   "metadata": {},
   "outputs": [],
   "source": [
    "def normalize(text):\n",
    "    return(text.lower())"
   ]
  },
  {
   "cell_type": "code",
   "execution_count": 39,
   "id": "b37e6d5b",
   "metadata": {},
   "outputs": [],
   "source": [
    "import re\n",
    "def removenumbers(text):\n",
    "    text = re.sub(\"\\d+\", \"\", text)\n",
    "    return text"
   ]
  },
  {
   "cell_type": "code",
   "execution_count": 40,
   "id": "8e949715",
   "metadata": {},
   "outputs": [],
   "source": [
    "def makesentences(text):\n",
    "    s = re.sub(\"\\n\", \" \", text)\n",
    "    s = sent_tokenize(s)\n",
    "    temp=[]\n",
    "    for sen in s:\n",
    "        temp.append(re.sub(\"\\W\", \" \", sen))\n",
    "    return temp"
   ]
  },
  {
   "cell_type": "code",
   "execution_count": 41,
   "id": "af9fe101",
   "metadata": {},
   "outputs": [],
   "source": [
    "def preprocess(text):\n",
    "    text = normalize(text)\n",
    "    text = removenumbers(text)\n",
    "    text = makesentences(text)\n",
    "    return(text)"
   ]
  },
  {
   "cell_type": "markdown",
   "id": "af106237",
   "metadata": {},
   "source": [
    "### Load the corpus"
   ]
  },
  {
   "cell_type": "code",
   "execution_count": 42,
   "id": "465c2f6a",
   "metadata": {},
   "outputs": [],
   "source": [
    "data=[]\n",
    "path = './Datas/text.txt'\n",
    "with open(path) as fd:    \n",
    "    lines = fd.read()\n",
    "    doc = preprocess(lines)\n",
    "    data.append(doc)\n",
    "    "
   ]
  },
  {
   "cell_type": "code",
   "execution_count": 43,
   "id": "6087a283",
   "metadata": {},
   "outputs": [
    {
     "name": "stdout",
     "output_type": "stream",
     "text": [
      "84257\n"
     ]
    }
   ],
   "source": [
    "sent= []\n",
    "for doc in data:\n",
    "    for s in doc:\n",
    "        sent.append(s.split()) \n",
    "        \n",
    "print(len(sent))"
   ]
  },
  {
   "cell_type": "code",
   "execution_count": 26,
   "id": "752b24cf",
   "metadata": {},
   "outputs": [],
   "source": [
    "corpus = Corpus() #Corpus Object\n",
    "\n",
    "#create the co-occurrence matrix for text data with respect to a context window\n",
    "corpus.fit(sent, window=10)"
   ]
  },
  {
   "cell_type": "code",
   "execution_count": 27,
   "id": "25c84af7",
   "metadata": {},
   "outputs": [],
   "source": [
    "glove = Glove(no_components=25) #size of vectors"
   ]
  },
  {
   "cell_type": "code",
   "execution_count": 28,
   "id": "3bd25b97",
   "metadata": {},
   "outputs": [
    {
     "data": {
      "text/plain": [
       "81.27971506118774"
      ]
     },
     "execution_count": 28,
     "metadata": {},
     "output_type": "execute_result"
    }
   ],
   "source": [
    "import time\n",
    "start = time.time()\n",
    "glove.fit(corpus.matrix, epochs=50, no_threads=4)## co-occ --> word embeddings\n",
    "glove.add_dictionary(corpus.dictionary)\n",
    "glove.save('glove.model')\n",
    "end = time.time()\n",
    "end-start"
   ]
  },
  {
   "cell_type": "code",
   "execution_count": 29,
   "id": "ec10a2e6",
   "metadata": {},
   "outputs": [
    {
     "data": {
      "text/plain": [
       "<glove.glove.Glove at 0x7f6164350040>"
      ]
     },
     "execution_count": 29,
     "metadata": {},
     "output_type": "execute_result"
    }
   ],
   "source": [
    "glove.load('glove.model')"
   ]
  },
  {
   "cell_type": "code",
   "execution_count": 30,
   "id": "8c59d01e",
   "metadata": {},
   "outputs": [
    {
     "data": {
      "text/plain": [
       "91796"
      ]
     },
     "execution_count": 30,
     "metadata": {},
     "output_type": "execute_result"
    }
   ],
   "source": [
    "len(corpus.dictionary)"
   ]
  },
  {
   "cell_type": "code",
   "execution_count": 31,
   "id": "ea69a898",
   "metadata": {},
   "outputs": [
    {
     "data": {
      "text/plain": [
       "array([ 0.1067566 ,  0.22632935, -0.24461168,  0.30800894,  0.05424697,\n",
       "       -0.13670989,  0.25378217, -0.27005755,  0.23821969, -0.03171011,\n",
       "        0.08643283, -0.22801842, -0.11694864,  0.05465114,  0.56119682,\n",
       "        0.11275145,  0.25527233, -0.13403117, -0.6364425 , -0.13954891,\n",
       "       -0.24334096, -0.3057332 , -0.12278836,  0.21072148,  0.22428856])"
      ]
     },
     "execution_count": 31,
     "metadata": {},
     "output_type": "execute_result"
    }
   ],
   "source": [
    "glove.word_vectors[glove.dictionary['duchy']]"
   ]
  },
  {
   "cell_type": "code",
   "execution_count": 33,
   "id": "81c977c2",
   "metadata": {},
   "outputs": [
    {
     "data": {
      "text/plain": [
       "[('memory', 0.886923611545967),\n",
       " ('personal', 0.8857053518695853),\n",
       " ('marriage', 0.884614581137182),\n",
       " ('successor', 0.8834417831414622)]"
      ]
     },
     "execution_count": 33,
     "metadata": {},
     "output_type": "execute_result"
    }
   ],
   "source": [
    "glove.most_similar('mind')"
   ]
  },
  {
   "cell_type": "code",
   "execution_count": 34,
   "id": "a24265c7",
   "metadata": {},
   "outputs": [],
   "source": [
    "## Word2Vec"
   ]
  },
  {
   "cell_type": "code",
   "execution_count": 36,
   "id": "58ed1b8b",
   "metadata": {},
   "outputs": [
    {
     "name": "stdout",
     "output_type": "stream",
     "text": [
      "Collecting gensim==4.0.1\n",
      "  Downloading gensim-4.0.1-cp38-cp38-manylinux1_x86_64.whl (23.9 MB)\n",
      "\u001b[K     |████████████████████████████████| 23.9 MB 10.5 MB/s eta 0:00:01\n",
      "\u001b[?25hCollecting smart-open>=1.8.1\n",
      "  Downloading smart_open-5.2.1-py3-none-any.whl (58 kB)\n",
      "\u001b[K     |████████████████████████████████| 58 kB 11.6 MB/s eta 0:00:01\n",
      "\u001b[?25hRequirement already satisfied: numpy>=1.11.3 in /home/ananthan2k/anaconda3/lib/python3.8/site-packages (from gensim==4.0.1) (1.20.1)\n",
      "Requirement already satisfied: scipy>=0.18.1 in /home/ananthan2k/anaconda3/lib/python3.8/site-packages (from gensim==4.0.1) (1.6.2)\n",
      "Installing collected packages: smart-open, gensim\n",
      "Successfully installed gensim-4.0.1 smart-open-5.2.1\n",
      "Note: you may need to restart the kernel to use updated packages.\n"
     ]
    }
   ],
   "source": [
    "pip install gensim==4.0.1"
   ]
  },
  {
   "cell_type": "code",
   "execution_count": 56,
   "id": "c4aa681e",
   "metadata": {},
   "outputs": [],
   "source": [
    "from gensim.models import Word2Vec, FastText"
   ]
  },
  {
   "cell_type": "code",
   "execution_count": 48,
   "id": "040af2d3",
   "metadata": {},
   "outputs": [
    {
     "data": {
      "text/plain": [
       "6.089433431625366"
      ]
     },
     "execution_count": 48,
     "metadata": {},
     "output_type": "execute_result"
    }
   ],
   "source": [
    "##Only once\n",
    "import time\n",
    "start = time.time()\n",
    "cbow = Word2Vec(sent,vector_size = 50, window = 5) #sg=0 -CBoW - gensim 4\n",
    "#cbow = Word2Vec(sent,size = 50, window = 5, sg = 0) #older version of gensim 3\n",
    "end = time.time()\n",
    "end-start"
   ]
  },
  {
   "cell_type": "code",
   "execution_count": 50,
   "id": "fb474f2d",
   "metadata": {},
   "outputs": [],
   "source": [
    "cbow.save(\"word2vec.model\")"
   ]
  },
  {
   "cell_type": "code",
   "execution_count": 54,
   "id": "4eb7786d",
   "metadata": {},
   "outputs": [
    {
     "name": "stdout",
     "output_type": "stream",
     "text": [
      "0.83680445\n"
     ]
    }
   ],
   "source": [
    "print(cbow.wv.similarity('duchy', 'prussia'))"
   ]
  },
  {
   "cell_type": "code",
   "execution_count": 55,
   "id": "148a8479",
   "metadata": {},
   "outputs": [],
   "source": [
    "### FastText"
   ]
  },
  {
   "cell_type": "code",
   "execution_count": 59,
   "id": "6ab5da50",
   "metadata": {},
   "outputs": [
    {
     "data": {
      "text/plain": [
       "38.93484115600586"
      ]
     },
     "execution_count": 59,
     "metadata": {},
     "output_type": "execute_result"
    }
   ],
   "source": [
    "start = time.time()\n",
    "fasttextmodel = FastText(window=3, min_count=1,sentences=sent)\n",
    "fasttextmodel.save('fastText.model')\n",
    "end = time.time()\n",
    "end-start\n"
   ]
  },
  {
   "cell_type": "code",
   "execution_count": 61,
   "id": "14e9bc03",
   "metadata": {},
   "outputs": [
    {
     "data": {
      "text/plain": [
       "0.8282014"
      ]
     },
     "execution_count": 61,
     "metadata": {},
     "output_type": "execute_result"
    }
   ],
   "source": [
    "fasttextmodel.wv.similarity('duchy', 'prussia')"
   ]
  },
  {
   "cell_type": "code",
   "execution_count": null,
   "id": "49265fc0",
   "metadata": {},
   "outputs": [],
   "source": []
  }
 ],
 "metadata": {
  "kernelspec": {
   "display_name": "Python 3",
   "language": "python",
   "name": "python3"
  },
  "language_info": {
   "codemirror_mode": {
    "name": "ipython",
    "version": 3
   },
   "file_extension": ".py",
   "mimetype": "text/x-python",
   "name": "python",
   "nbconvert_exporter": "python",
   "pygments_lexer": "ipython3",
   "version": "3.8.8"
  }
 },
 "nbformat": 4,
 "nbformat_minor": 5
}
