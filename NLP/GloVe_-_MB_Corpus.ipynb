{
 "cells": [
  {
   "cell_type": "code",
   "execution_count": 5,
   "metadata": {
    "colab": {
     "base_uri": "https://localhost:8080/"
    },
    "executionInfo": {
     "elapsed": 40219,
     "status": "ok",
     "timestamp": 1634529967173,
     "user": {
      "displayName": "Jayashree Nair Amrita",
      "photoUrl": "https://lh3.googleusercontent.com/a-/AOh14Ghmeq3HLkStZuhtSxhaEfGv2ye5wHHLrTfnZhQuPQ=s64",
      "userId": "11182791796975001530"
     },
     "user_tz": -330
    },
    "id": "3ws-CE8ikT5N",
    "outputId": "01483958-25b3-4cf7-fcf1-54cb12f58d7f"
   },
   "outputs": [
    {
     "name": "stdout",
     "output_type": "stream",
     "text": [
      "Mounted at /content/gdrive/\n"
     ]
    }
   ],
   "source": [
    "from google.colab import drive\n",
    "drive.mount('/content/gdrive/')"
   ]
  },
  {
   "cell_type": "code",
   "execution_count": 6,
   "metadata": {
    "colab": {
     "base_uri": "https://localhost:8080/"
    },
    "executionInfo": {
     "elapsed": 17,
     "status": "ok",
     "timestamp": 1634529967174,
     "user": {
      "displayName": "Jayashree Nair Amrita",
      "photoUrl": "https://lh3.googleusercontent.com/a-/AOh14Ghmeq3HLkStZuhtSxhaEfGv2ye5wHHLrTfnZhQuPQ=s64",
      "userId": "11182791796975001530"
     },
     "user_tz": -330
    },
    "id": "5nK5Tgb3kj2v",
    "outputId": "ce46c13f-9a98-4be0-d2b0-98cfccfeee64"
   },
   "outputs": [
    {
     "name": "stdout",
     "output_type": "stream",
     "text": [
      "/content/gdrive/MyDrive/NLP2021/WordEmbeddings\n"
     ]
    }
   ],
   "source": [
    "%cd /content/gdrive/MyDrive/NLP2021/WordEmbeddings/"
   ]
  },
  {
   "cell_type": "markdown",
   "metadata": {
    "id": "hxrP0Xftjlzr"
   },
   "source": [
    "# GloVe\n",
    "You may find an implemention of GloVe here:\n",
    "\n",
    "https://pypi.org/project/glove-python-binary/ - must be used in the Python 3.5 and above\n",
    "\n",
    "https://github.com/maciejkula/glove-python\n",
    "\n",
    "\n",
    "Ref:\n",
    "\n",
    "https://medium.com/analytics-vidhya/word-vectorization-using-glove-76919685ee0b"
   ]
  },
  {
   "cell_type": "code",
   "execution_count": 7,
   "metadata": {
    "colab": {
     "base_uri": "https://localhost:8080/"
    },
    "executionInfo": {
     "elapsed": 3335,
     "status": "ok",
     "timestamp": 1634529970500,
     "user": {
      "displayName": "Jayashree Nair Amrita",
      "photoUrl": "https://lh3.googleusercontent.com/a-/AOh14Ghmeq3HLkStZuhtSxhaEfGv2ye5wHHLrTfnZhQuPQ=s64",
      "userId": "11182791796975001530"
     },
     "user_tz": -330
    },
    "id": "LaoUD2eBhZjW",
    "outputId": "40c3f7b2-f7f7-4677-a86f-d1f337114870"
   },
   "outputs": [
    {
     "name": "stdout",
     "output_type": "stream",
     "text": [
      "Requirement already satisfied: glove-python-binary in /usr/local/lib/python3.7/dist-packages (0.2.0)\n",
      "Requirement already satisfied: scipy in /usr/local/lib/python3.7/dist-packages (from glove-python-binary) (1.4.1)\n",
      "Requirement already satisfied: numpy in /usr/local/lib/python3.7/dist-packages (from glove-python-binary) (1.19.5)\n"
     ]
    }
   ],
   "source": [
    "pip install glove-python-binary"
   ]
  },
  {
   "cell_type": "markdown",
   "metadata": {
    "id": "n9jlAfN1rbUy"
   },
   "source": [
    "#There two major tasks in GloVe\n",
    "\n",
    "*   creating a co-occurrence matrix from the corpus, \n",
    "*   using it to produce the embeddings\n",
    "\n",
    "#These are achieved by two classes:\n",
    "\n",
    "1.   Corpus :  Given a corpus, it constructs vocabulary and co-occurrence matrix\n",
    "\n",
    "2.   Glove : trains the embeddings\n",
    "\n"
   ]
  },
  {
   "cell_type": "code",
   "execution_count": 8,
   "metadata": {
    "executionInfo": {
     "elapsed": 46,
     "status": "ok",
     "timestamp": 1634529970502,
     "user": {
      "displayName": "Jayashree Nair Amrita",
      "photoUrl": "https://lh3.googleusercontent.com/a-/AOh14Ghmeq3HLkStZuhtSxhaEfGv2ye5wHHLrTfnZhQuPQ=s64",
      "userId": "11182791796975001530"
     },
     "user_tz": -330
    },
    "id": "wh456IjlyYJ4"
   },
   "outputs": [],
   "source": [
    "from glove import Corpus, Glove"
   ]
  },
  {
   "cell_type": "markdown",
   "metadata": {
    "id": "dSvTvyY9PCEZ"
   },
   "source": [
    "#Pre-processing Functions"
   ]
  },
  {
   "cell_type": "code",
   "execution_count": 9,
   "metadata": {
    "executionInfo": {
     "elapsed": 47,
     "status": "ok",
     "timestamp": 1634529970505,
     "user": {
      "displayName": "Jayashree Nair Amrita",
      "photoUrl": "https://lh3.googleusercontent.com/a-/AOh14Ghmeq3HLkStZuhtSxhaEfGv2ye5wHHLrTfnZhQuPQ=s64",
      "userId": "11182791796975001530"
     },
     "user_tz": -330
    },
    "id": "yWDxN5ColToh"
   },
   "outputs": [],
   "source": [
    "def normalize(text):\n",
    "    return(text.lower())"
   ]
  },
  {
   "cell_type": "code",
   "execution_count": 10,
   "metadata": {
    "executionInfo": {
     "elapsed": 47,
     "status": "ok",
     "timestamp": 1634529970506,
     "user": {
      "displayName": "Jayashree Nair Amrita",
      "photoUrl": "https://lh3.googleusercontent.com/a-/AOh14Ghmeq3HLkStZuhtSxhaEfGv2ye5wHHLrTfnZhQuPQ=s64",
      "userId": "11182791796975001530"
     },
     "user_tz": -330
    },
    "id": "N0oiL3jIlXZR"
   },
   "outputs": [],
   "source": [
    "import re\n",
    "def removenumbers(text):\n",
    "    text = re.sub(\"\\d+\", \"\", text)\n",
    "    return text"
   ]
  },
  {
   "cell_type": "code",
   "execution_count": 11,
   "metadata": {
    "colab": {
     "base_uri": "https://localhost:8080/"
    },
    "executionInfo": {
     "elapsed": 1913,
     "status": "ok",
     "timestamp": 1634529972373,
     "user": {
      "displayName": "Jayashree Nair Amrita",
      "photoUrl": "https://lh3.googleusercontent.com/a-/AOh14Ghmeq3HLkStZuhtSxhaEfGv2ye5wHHLrTfnZhQuPQ=s64",
      "userId": "11182791796975001530"
     },
     "user_tz": -330
    },
    "id": "8YkKAFw3lZio",
    "outputId": "d42f9f07-cb72-4333-e902-9c850a570bcc"
   },
   "outputs": [
    {
     "name": "stdout",
     "output_type": "stream",
     "text": [
      "[nltk_data] Downloading package punkt to /root/nltk_data...\n",
      "[nltk_data]   Unzipping tokenizers/punkt.zip.\n"
     ]
    }
   ],
   "source": [
    "import nltk\n",
    "nltk.download('punkt')\n",
    "from nltk import sent_tokenize\n",
    "\n",
    "def makesentences(text):\n",
    "    s = re.sub(\"\\n\", \" \", text)\n",
    "    s = sent_tokenize(s)\n",
    "    temp=[]\n",
    "    for sen in s:\n",
    "        temp.append(re.sub(\"\\W\", \" \", sen))\n",
    "    return temp"
   ]
  },
  {
   "cell_type": "code",
   "execution_count": 12,
   "metadata": {
    "executionInfo": {
     "elapsed": 9,
     "status": "ok",
     "timestamp": 1634529972376,
     "user": {
      "displayName": "Jayashree Nair Amrita",
      "photoUrl": "https://lh3.googleusercontent.com/a-/AOh14Ghmeq3HLkStZuhtSxhaEfGv2ye5wHHLrTfnZhQuPQ=s64",
      "userId": "11182791796975001530"
     },
     "user_tz": -330
    },
    "id": "f4SbSvN7lgHb"
   },
   "outputs": [],
   "source": [
    "def preprocess(text):\n",
    "    text = normalize(text)\n",
    "    text = removenumbers(text)\n",
    "    text = makesentences(text)\n",
    "    return(text)"
   ]
  },
  {
   "cell_type": "markdown",
   "metadata": {
    "id": "KgPrgX83PJWa"
   },
   "source": [
    "#Load Corpus"
   ]
  },
  {
   "cell_type": "code",
   "execution_count": 13,
   "metadata": {
    "executionInfo": {
     "elapsed": 12513,
     "status": "ok",
     "timestamp": 1634529984881,
     "user": {
      "displayName": "Jayashree Nair Amrita",
      "photoUrl": "https://lh3.googleusercontent.com/a-/AOh14Ghmeq3HLkStZuhtSxhaEfGv2ye5wHHLrTfnZhQuPQ=s64",
      "userId": "11182791796975001530"
     },
     "user_tz": -330
    },
    "id": "8q0p7rHUnxMq"
   },
   "outputs": [],
   "source": [
    "#The Mahabharata corpus is taken form the following website:\n",
    "#https://www.sacred-texts.com/hin/maha/ \n",
    "data=[]\n",
    "n=19 #18 Texts of Mahabharatha\n",
    "for i in range(1,n):\n",
    "    path=\"mb/maha\"+str(i) + '.txt'\n",
    "    #print(path)\n",
    "    file = open(path)\n",
    "    lines = file.read()\n",
    "    doc = preprocess(lines)\n",
    "    data.append(doc)"
   ]
  },
  {
   "cell_type": "code",
   "execution_count": 14,
   "metadata": {
    "colab": {
     "base_uri": "https://localhost:8080/"
    },
    "executionInfo": {
     "elapsed": 612,
     "status": "ok",
     "timestamp": 1634529985473,
     "user": {
      "displayName": "Jayashree Nair Amrita",
      "photoUrl": "https://lh3.googleusercontent.com/a-/AOh14Ghmeq3HLkStZuhtSxhaEfGv2ye5wHHLrTfnZhQuPQ=s64",
      "userId": "11182791796975001530"
     },
     "user_tz": -330
    },
    "id": "Pw1GTCYUlg8G",
    "outputId": "81415686-847c-42aa-f031-101a5e03b8c6"
   },
   "outputs": [
    {
     "name": "stdout",
     "output_type": "stream",
     "text": [
      "131541\n",
      "['then', 'dhaumya', 'well', 'conversant', 'with', 'the', 'vedas', 'igniting', 'the', 'sacred', 'fire', 'poured', 'with', 'due', 'mantras', 'libations', 'of', 'clarified', 'butter', 'into', 'that', 'blazing', 'element']\n"
     ]
    }
   ],
   "source": [
    "sent= []\n",
    "for doc in data:\n",
    "    for s in doc:\n",
    "        sent.append(s.split()) \n",
    "        \n",
    "print(len(sent))\n",
    "print(sent[10000])"
   ]
  },
  {
   "cell_type": "markdown",
   "metadata": {
    "id": "zx7q5ni-PUS7"
   },
   "source": [
    "#Create the GloVe Model"
   ]
  },
  {
   "cell_type": "markdown",
   "metadata": {
    "id": "oMpjn-q-xQ8Q"
   },
   "source": [
    "The corpus.fit() takes two arguments:\n",
    "\n",
    "1.   lines — text after pre-processing\n",
    "2.   window — context window"
   ]
  },
  {
   "cell_type": "code",
   "execution_count": 15,
   "metadata": {
    "executionInfo": {
     "elapsed": 35,
     "status": "ok",
     "timestamp": 1634529989874,
     "user": {
      "displayName": "Jayashree Nair Amrita",
      "photoUrl": "https://lh3.googleusercontent.com/a-/AOh14Ghmeq3HLkStZuhtSxhaEfGv2ye5wHHLrTfnZhQuPQ=s64",
      "userId": "11182791796975001530"
     },
     "user_tz": -330
    },
    "id": "b2TasH1ZhjYf"
   },
   "outputs": [],
   "source": [
    "corpus = Corpus() #Corpus Object\n",
    "\n",
    "#create the co-occurrence matrix for text data with respect to a context window\n",
    "corpus.fit(sent, window=10)\n",
    "\n",
    "##corpus --> co-occ Mat\n"
   ]
  },
  {
   "cell_type": "markdown",
   "metadata": {
    "id": "c3MTghTIyA0l"
   },
   "source": [
    "The Glove() constructor takes \n",
    "\n",
    "1.   no_of_components — size of the word vectors that are created\n",
    "2.   learning_rate - machine learning parameter - learning rate\n"
   ]
  },
  {
   "cell_type": "code",
   "execution_count": 16,
   "metadata": {
    "executionInfo": {
     "elapsed": 36,
     "status": "ok",
     "timestamp": 1634529989876,
     "user": {
      "displayName": "Jayashree Nair Amrita",
      "photoUrl": "https://lh3.googleusercontent.com/a-/AOh14Ghmeq3HLkStZuhtSxhaEfGv2ye5wHHLrTfnZhQuPQ=s64",
      "userId": "11182791796975001530"
     },
     "user_tz": -330
    },
    "id": "0cOmO4gFw7dr"
   },
   "outputs": [],
   "source": [
    "#Golve object\n",
    "glove = Glove(no_components=25) #size of vectors"
   ]
  },
  {
   "cell_type": "markdown",
   "metadata": {
    "id": "dFelg3MpzO-_"
   },
   "source": [
    "The glove.fit() takes:\n",
    "\n",
    "1.   cooccurence_matrix: the matrix of word-word co-occurrences\n",
    "2.   epochs: number of times the dataset is processed\n",
    "3. no_of_threads: number of threads for parallel processing\n",
    "\n",
    "\n",
    "\n",
    "\n",
    "\n"
   ]
  },
  {
   "cell_type": "code",
   "execution_count": 17,
   "metadata": {
    "colab": {
     "base_uri": "https://localhost:8080/"
    },
    "executionInfo": {
     "elapsed": 130550,
     "status": "ok",
     "timestamp": 1634530120391,
     "user": {
      "displayName": "Jayashree Nair Amrita",
      "photoUrl": "https://lh3.googleusercontent.com/a-/AOh14Ghmeq3HLkStZuhtSxhaEfGv2ye5wHHLrTfnZhQuPQ=s64",
      "userId": "11182791796975001530"
     },
     "user_tz": -330
    },
    "id": "mThpLOJ6zPfh",
    "outputId": "51f4a161-8bad-428a-cff8-24ec209abfcd"
   },
   "outputs": [
    {
     "data": {
      "text/plain": [
       "130.40521621704102"
      ]
     },
     "execution_count": 17,
     "metadata": {},
     "output_type": "execute_result"
    }
   ],
   "source": [
    "#only once\n",
    "import time\n",
    "start = time.time()\n",
    "glove.fit(corpus.matrix, epochs=50, no_threads=4)## co-occ --> word embeddings\n",
    "glove.add_dictionary(corpus.dictionary)\n",
    "glove.save('glove.model')\n",
    "end = time.time()\n",
    "end-start"
   ]
  },
  {
   "cell_type": "code",
   "execution_count": 25,
   "metadata": {
    "colab": {
     "base_uri": "https://localhost:8080/"
    },
    "executionInfo": {
     "elapsed": 376,
     "status": "ok",
     "timestamp": 1634531432939,
     "user": {
      "displayName": "Jayashree Nair Amrita",
      "photoUrl": "https://lh3.googleusercontent.com/a-/AOh14Ghmeq3HLkStZuhtSxhaEfGv2ye5wHHLrTfnZhQuPQ=s64",
      "userId": "11182791796975001530"
     },
     "user_tz": -330
    },
    "id": "IJJ1oiXCfFpQ",
    "outputId": "12ec5090-8864-4be0-da2d-01b51c52b848"
   },
   "outputs": [
    {
     "data": {
      "text/plain": [
       "<glove.glove.Glove at 0x7f629f54ad10>"
      ]
     },
     "execution_count": 25,
     "metadata": {},
     "output_type": "execute_result"
    }
   ],
   "source": [
    "glove.load('glove.model')"
   ]
  },
  {
   "cell_type": "code",
   "execution_count": 19,
   "metadata": {
    "colab": {
     "base_uri": "https://localhost:8080/"
    },
    "executionInfo": {
     "elapsed": 43,
     "status": "ok",
     "timestamp": 1634530120394,
     "user": {
      "displayName": "Jayashree Nair Amrita",
      "photoUrl": "https://lh3.googleusercontent.com/a-/AOh14Ghmeq3HLkStZuhtSxhaEfGv2ye5wHHLrTfnZhQuPQ=s64",
      "userId": "11182791796975001530"
     },
     "user_tz": -330
    },
    "id": "WgUS7Dh-ibJa",
    "outputId": "1ba060dc-bae4-4292-aa46-0571678c765d"
   },
   "outputs": [
    {
     "data": {
      "text/plain": [
       "31681"
      ]
     },
     "execution_count": 19,
     "metadata": {},
     "output_type": "execute_result"
    }
   ],
   "source": [
    "len(corpus.dictionary)"
   ]
  },
  {
   "cell_type": "code",
   "execution_count": 20,
   "metadata": {
    "colab": {
     "base_uri": "https://localhost:8080/"
    },
    "executionInfo": {
     "elapsed": 40,
     "status": "ok",
     "timestamp": 1634530120394,
     "user": {
      "displayName": "Jayashree Nair Amrita",
      "photoUrl": "https://lh3.googleusercontent.com/a-/AOh14Ghmeq3HLkStZuhtSxhaEfGv2ye5wHHLrTfnZhQuPQ=s64",
      "userId": "11182791796975001530"
     },
     "user_tz": -330
    },
    "id": "NCS9J5YSiigV",
    "outputId": "50085ec4-1344-475e-e540-a2498b3eda40"
   },
   "outputs": [
    {
     "data": {
      "text/plain": [
       "array([-3.50014510e-01,  5.41537420e-01, -4.24498644e-01,  6.48002732e-03,\n",
       "       -4.43351357e-01,  4.16083526e-01,  3.74757858e-01, -4.71215809e-01,\n",
       "       -3.00953196e-01, -3.61419186e-01,  4.15034334e-01,  2.41445370e-01,\n",
       "       -3.69636749e-01, -3.48069620e-01, -2.69791700e-01, -2.43678201e-01,\n",
       "        4.61206070e-04, -9.94493635e-02,  5.22362240e-01,  3.08452243e-01,\n",
       "        3.43109478e-01, -1.89536383e-01, -9.25948038e-02,  2.86891579e-01,\n",
       "        5.32442909e-01])"
      ]
     },
     "execution_count": 20,
     "metadata": {},
     "output_type": "execute_result"
    }
   ],
   "source": [
    "glove.word_vectors[glove.dictionary['krishna']]"
   ]
  },
  {
   "cell_type": "code",
   "execution_count": 21,
   "metadata": {
    "colab": {
     "base_uri": "https://localhost:8080/"
    },
    "executionInfo": {
     "elapsed": 38,
     "status": "ok",
     "timestamp": 1634530120395,
     "user": {
      "displayName": "Jayashree Nair Amrita",
      "photoUrl": "https://lh3.googleusercontent.com/a-/AOh14Ghmeq3HLkStZuhtSxhaEfGv2ye5wHHLrTfnZhQuPQ=s64",
      "userId": "11182791796975001530"
     },
     "user_tz": -330
    },
    "id": "lI4DLoOmmle2",
    "outputId": "0676097a-351e-484d-c794-bffeef7afd7c"
   },
   "outputs": [
    {
     "data": {
      "text/plain": [
       "[('race', 0.9458372835902824),\n",
       " ('bull', 0.9081990989694315),\n",
       " ('o', 0.9071518455445287),\n",
       " ('kuru', 0.89864954430852)]"
      ]
     },
     "execution_count": 21,
     "metadata": {},
     "output_type": "execute_result"
    }
   ],
   "source": [
    "glove.most_similar('bharata')"
   ]
  },
  {
   "cell_type": "code",
   "execution_count": 22,
   "metadata": {
    "executionInfo": {
     "elapsed": 35,
     "status": "ok",
     "timestamp": 1634530120396,
     "user": {
      "displayName": "Jayashree Nair Amrita",
      "photoUrl": "https://lh3.googleusercontent.com/a-/AOh14Ghmeq3HLkStZuhtSxhaEfGv2ye5wHHLrTfnZhQuPQ=s64",
      "userId": "11182791796975001530"
     },
     "user_tz": -330
    },
    "id": "UPdkHYx3Swkk"
   },
   "outputs": [],
   "source": [
    "D = {word: glove.word_vectors[glove.dictionary[word]] for word in glove.dictionary.keys()}"
   ]
  },
  {
   "cell_type": "code",
   "execution_count": 23,
   "metadata": {
    "executionInfo": {
     "elapsed": 35,
     "status": "ok",
     "timestamp": 1634530120397,
     "user": {
      "displayName": "Jayashree Nair Amrita",
      "photoUrl": "https://lh3.googleusercontent.com/a-/AOh14Ghmeq3HLkStZuhtSxhaEfGv2ye5wHHLrTfnZhQuPQ=s64",
      "userId": "11182791796975001530"
     },
     "user_tz": -330
    },
    "id": "4SPIO6yxpfuj"
   },
   "outputs": [],
   "source": [
    "#D"
   ]
  },
  {
   "cell_type": "code",
   "execution_count": 24,
   "metadata": {
    "colab": {
     "base_uri": "https://localhost:8080/"
    },
    "executionInfo": {
     "elapsed": 32,
     "status": "ok",
     "timestamp": 1634530120398,
     "user": {
      "displayName": "Jayashree Nair Amrita",
      "photoUrl": "https://lh3.googleusercontent.com/a-/AOh14Ghmeq3HLkStZuhtSxhaEfGv2ye5wHHLrTfnZhQuPQ=s64",
      "userId": "11182791796975001530"
     },
     "user_tz": -330
    },
    "id": "Fw2pXpVSS2YY",
    "outputId": "6524ab82-83a4-46d1-8662-699dc30ff60d"
   },
   "outputs": [
    {
     "data": {
      "text/plain": [
       "array([-0.39440406,  0.17652099, -0.58055535,  0.08393565, -0.68733484,\n",
       "        0.28464127,  0.41744381, -0.30537896, -0.08472741, -0.34112128,\n",
       "        0.35107387,  0.25535321, -0.22785611, -0.39854562, -0.3099981 ,\n",
       "       -0.39314134, -0.33393178, -0.36968778,  0.44259752,  0.19432483,\n",
       "        0.2186686 , -0.52209415, -0.45917745,  0.52118736,  0.68552378])"
      ]
     },
     "execution_count": 24,
     "metadata": {},
     "output_type": "execute_result"
    }
   ],
   "source": [
    "D['arjuna']"
   ]
  },
  {
   "cell_type": "markdown",
   "metadata": {
    "id": "MKfwjyBRTIlN"
   },
   "source": [
    "Save the dictionary to file and follow the same process as used in pre-trained model"
   ]
  }
 ],
 "metadata": {
  "accelerator": "GPU",
  "colab": {
   "authorship_tag": "ABX9TyOHmao5Wi5zPwp9c+q8PnN2",
   "collapsed_sections": [],
   "name": "GloVe - MB Corpus.ipynb",
   "provenance": []
  },
  "kernelspec": {
   "display_name": "Python 3",
   "language": "python",
   "name": "python3"
  },
  "language_info": {
   "codemirror_mode": {
    "name": "ipython",
    "version": 3
   },
   "file_extension": ".py",
   "mimetype": "text/x-python",
   "name": "python",
   "nbconvert_exporter": "python",
   "pygments_lexer": "ipython3",
   "version": "3.8.8"
  }
 },
 "nbformat": 4,
 "nbformat_minor": 1
}
