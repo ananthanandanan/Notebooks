{
 "cells": [
  {
   "cell_type": "markdown",
   "metadata": {
    "id": "dSvTvyY9PCEZ"
   },
   "source": [
    "#Pre-processing Functions"
   ]
  },
  {
   "cell_type": "code",
   "execution_count": 1,
   "metadata": {
    "executionInfo": {
     "elapsed": 1712,
     "status": "ok",
     "timestamp": 1625027150800,
     "user": {
      "displayName": "Jayashree Nair Amrita",
      "photoUrl": "https://lh3.googleusercontent.com/a-/AOh14Ghmeq3HLkStZuhtSxhaEfGv2ye5wHHLrTfnZhQuPQ=s64",
      "userId": "11182791796975001530"
     },
     "user_tz": -330
    },
    "id": "yWDxN5ColToh"
   },
   "outputs": [],
   "source": [
    "def normalize(text):\n",
    "    return(text.lower())"
   ]
  },
  {
   "cell_type": "code",
   "execution_count": 2,
   "metadata": {
    "executionInfo": {
     "elapsed": 14,
     "status": "ok",
     "timestamp": 1625027150802,
     "user": {
      "displayName": "Jayashree Nair Amrita",
      "photoUrl": "https://lh3.googleusercontent.com/a-/AOh14Ghmeq3HLkStZuhtSxhaEfGv2ye5wHHLrTfnZhQuPQ=s64",
      "userId": "11182791796975001530"
     },
     "user_tz": -330
    },
    "id": "N0oiL3jIlXZR"
   },
   "outputs": [],
   "source": [
    "import re\n",
    "def removenumbers(text):\n",
    "    text = re.sub(\"\\d+\", \"\", text)\n",
    "    return text"
   ]
  },
  {
   "cell_type": "code",
   "execution_count": 3,
   "metadata": {
    "colab": {
     "base_uri": "https://localhost:8080/"
    },
    "executionInfo": {
     "elapsed": 1702,
     "status": "ok",
     "timestamp": 1625027152493,
     "user": {
      "displayName": "Jayashree Nair Amrita",
      "photoUrl": "https://lh3.googleusercontent.com/a-/AOh14Ghmeq3HLkStZuhtSxhaEfGv2ye5wHHLrTfnZhQuPQ=s64",
      "userId": "11182791796975001530"
     },
     "user_tz": -330
    },
    "id": "aBVmQ_eKCgOT",
    "outputId": "3ffbcfc4-4e57-479b-f3c5-f3e153752520"
   },
   "outputs": [
    {
     "name": "stdout",
     "output_type": "stream",
     "text": [
      "[nltk_data] Downloading package punkt to /root/nltk_data...\n",
      "[nltk_data]   Unzipping tokenizers/punkt.zip.\n",
      "[nltk_data] Downloading package stopwords to /root/nltk_data...\n",
      "[nltk_data]   Unzipping corpora/stopwords.zip.\n"
     ]
    }
   ],
   "source": [
    "import nltk\n",
    "nltk.download('punkt')\n",
    "nltk.download('stopwords')\n",
    "from nltk import word_tokenize"
   ]
  },
  {
   "cell_type": "code",
   "execution_count": 4,
   "metadata": {
    "executionInfo": {
     "elapsed": 18,
     "status": "ok",
     "timestamp": 1625027152494,
     "user": {
      "displayName": "Jayashree Nair Amrita",
      "photoUrl": "https://lh3.googleusercontent.com/a-/AOh14Ghmeq3HLkStZuhtSxhaEfGv2ye5wHHLrTfnZhQuPQ=s64",
      "userId": "11182791796975001530"
     },
     "user_tz": -330
    },
    "id": "0f30mfdV_RO9"
   },
   "outputs": [],
   "source": [
    "from nltk.stem.snowball import SnowballStemmer\n",
    "def stem_text(text):\n",
    "  stemmer = SnowballStemmer(\"english\")\n",
    "  t=' '.join(stemmer.stem(a) for a in word_tokenize(text))\n",
    "  return t\n"
   ]
  },
  {
   "cell_type": "code",
   "execution_count": 11,
   "metadata": {
    "executionInfo": {
     "elapsed": 813,
     "status": "ok",
     "timestamp": 1625027624250,
     "user": {
      "displayName": "Jayashree Nair Amrita",
      "photoUrl": "https://lh3.googleusercontent.com/a-/AOh14Ghmeq3HLkStZuhtSxhaEfGv2ye5wHHLrTfnZhQuPQ=s64",
      "userId": "11182791796975001530"
     },
     "user_tz": -330
    },
    "id": "a84UjqyvAdi7"
   },
   "outputs": [],
   "source": [
    "from nltk.corpus import stopwords\n",
    "def remove_stopwords(text):\n",
    "  list_stopwords =  stopwords.words(\"english\")\n",
    "  finalText=' '.join(a for a in word_tokenize(text) if (a not in list_stopwords and a.isalnum()))\n",
    "  return finalText"
   ]
  },
  {
   "cell_type": "code",
   "execution_count": 6,
   "metadata": {
    "executionInfo": {
     "elapsed": 17,
     "status": "ok",
     "timestamp": 1625027152495,
     "user": {
      "displayName": "Jayashree Nair Amrita",
      "photoUrl": "https://lh3.googleusercontent.com/a-/AOh14Ghmeq3HLkStZuhtSxhaEfGv2ye5wHHLrTfnZhQuPQ=s64",
      "userId": "11182791796975001530"
     },
     "user_tz": -330
    },
    "id": "f4SbSvN7lgHb"
   },
   "outputs": [],
   "source": [
    "def preprocess(text):\n",
    "    text = normalize(text)\n",
    "    text = removenumbers(text)\n",
    "    text = remove_stopwords(text)\n",
    "    text = stem_text(text)\n",
    "    return(text)"
   ]
  },
  {
   "cell_type": "code",
   "execution_count": 7,
   "metadata": {
    "colab": {
     "base_uri": "https://localhost:8080/"
    },
    "executionInfo": {
     "elapsed": 17,
     "status": "ok",
     "timestamp": 1625027152496,
     "user": {
      "displayName": "Jayashree Nair Amrita",
      "photoUrl": "https://lh3.googleusercontent.com/a-/AOh14Ghmeq3HLkStZuhtSxhaEfGv2ye5wHHLrTfnZhQuPQ=s64",
      "userId": "11182791796975001530"
     },
     "user_tz": -330
    },
    "id": "8DsG1ABLjAtS",
    "outputId": "dffc94b8-3e6d-47f0-bf06-22767b647a10"
   },
   "outputs": [
    {
     "name": "stdout",
     "output_type": "stream",
     "text": [
      "[nltk_data] Downloading package wordnet to /root/nltk_data...\n",
      "[nltk_data]   Unzipping corpora/wordnet.zip.\n"
     ]
    }
   ],
   "source": [
    "import nltk\n",
    "nltk.download('wordnet')\n",
    "from nltk.stem.wordnet import WordNetLemmatizer\n",
    "def lemmatize(text):\n",
    "  lemmatizer = WordNetLemmatizer()\n",
    "  finalText=' '.join(lemmatizer.lemmatize(token) for token in text.split() if len(token) > 5)\n",
    "  return finalText\n"
   ]
  },
  {
   "cell_type": "code",
   "execution_count": 8,
   "metadata": {
    "executionInfo": {
     "elapsed": 15,
     "status": "ok",
     "timestamp": 1625027152498,
     "user": {
      "displayName": "Jayashree Nair Amrita",
      "photoUrl": "https://lh3.googleusercontent.com/a-/AOh14Ghmeq3HLkStZuhtSxhaEfGv2ye5wHHLrTfnZhQuPQ=s64",
      "userId": "11182791796975001530"
     },
     "user_tz": -330
    },
    "id": "zMbAQJaGi0GW"
   },
   "outputs": [],
   "source": [
    "def preprocess2(text):\n",
    "    text = normalize(text)\n",
    "    text = removenumbers(text)\n",
    "    text = remove_stopwords(text)\n",
    "    text = lemmatize(text)\n",
    "    return(text)\n"
   ]
  }
 ],
 "metadata": {
  "colab": {
   "authorship_tag": "ABX9TyOTSIl16yL0xE/RAy4a1LRZ",
   "collapsed_sections": [],
   "name": "preprocess.ipynb",
   "provenance": []
  },
  "kernelspec": {
   "display_name": "Python 3",
   "language": "python",
   "name": "python3"
  },
  "language_info": {
   "codemirror_mode": {
    "name": "ipython",
    "version": 3
   },
   "file_extension": ".py",
   "mimetype": "text/x-python",
   "name": "python",
   "nbconvert_exporter": "python",
   "pygments_lexer": "ipython3",
   "version": "3.8.8"
  }
 },
 "nbformat": 4,
 "nbformat_minor": 1
}
