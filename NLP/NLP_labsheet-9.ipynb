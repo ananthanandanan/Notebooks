{
 "cells": [
  {
   "cell_type": "markdown",
   "id": "5767b981",
   "metadata": {},
   "source": [
    "### Name K N Anantha nandanan\n",
    "#### Roll No : AM.U4CSE19326"
   ]
  },
  {
   "cell_type": "markdown",
   "id": "63c755aa",
   "metadata": {},
   "source": [
    "## Labsheet-9 BBC news classifeir"
   ]
  },
  {
   "cell_type": "markdown",
   "id": "4d729759",
   "metadata": {},
   "source": [
    "### Imports"
   ]
  },
  {
   "cell_type": "code",
   "execution_count": 37,
   "id": "ac18f681",
   "metadata": {},
   "outputs": [],
   "source": [
    "import nltk\n",
    "import pandas as pd\n",
    "import os\n",
    "import numpy as np\n",
    "from nltk.stem import WordNetLemmatizer\n",
    "from nltk.corpus import stopwords\n",
    "from nltk.tokenize import word_tokenize\n",
    "from nltk.stem.snowball import SnowballStemmer\n",
    "import re\n",
    "from sklearn.feature_extraction.text import TfidfVectorizer, CountVectorizer\n",
    "import string\n",
    "from sklearn.model_selection import train_test_split\n",
    "from sklearn.metrics import classification_report, accuracy_score\n",
    "from sklearn.neighbors import KNeighborsClassifier\n",
    "from sklearn import svm"
   ]
  },
  {
   "cell_type": "markdown",
   "id": "e33819a4",
   "metadata": {},
   "source": [
    "### Preprocessing"
   ]
  },
  {
   "cell_type": "code",
   "execution_count": 16,
   "id": "5b2f0867",
   "metadata": {},
   "outputs": [],
   "source": [
    "def preProcessing(text):\n",
    "    #print(type(text))\n",
    "    stemm_snow = SnowballStemmer(\"english\")\n",
    "    lem = WordNetLemmatizer()\n",
    "    text = text.replace(\"\\n\", \" \")\n",
    "    text = re.sub(r\"[0-9]\", \"\", text)\n",
    "    text = text.lower()\n",
    "    text = word_tokenize(text)\n",
    "    text = [stemm_snow.stem(word) for word in text]\n",
    "    text = [lem.lemmatize(word) for word in text]\n",
    "    text = [char for char in text if char not in string.punctuation]\n",
    "    text = [word for word in text if word not in stopwords.words('english')]\n",
    "    text = ' '.join(text)\n",
    "    \n",
    "    return text"
   ]
  },
  {
   "cell_type": "code",
   "execution_count": 10,
   "id": "274069de",
   "metadata": {},
   "outputs": [
    {
     "data": {
      "text/html": [
       "<div>\n",
       "<style scoped>\n",
       "    .dataframe tbody tr th:only-of-type {\n",
       "        vertical-align: middle;\n",
       "    }\n",
       "\n",
       "    .dataframe tbody tr th {\n",
       "        vertical-align: top;\n",
       "    }\n",
       "\n",
       "    .dataframe thead th {\n",
       "        text-align: right;\n",
       "    }\n",
       "</style>\n",
       "<table border=\"1\" class=\"dataframe\">\n",
       "  <thead>\n",
       "    <tr style=\"text-align: right;\">\n",
       "      <th></th>\n",
       "      <th>Unnamed: 0</th>\n",
       "      <th>data</th>\n",
       "      <th>labels</th>\n",
       "    </tr>\n",
       "  </thead>\n",
       "  <tbody>\n",
       "    <tr>\n",
       "      <th>0</th>\n",
       "      <td>0</td>\n",
       "      <td>England victory tainted by history\\n\\nAs Engla...</td>\n",
       "      <td>1</td>\n",
       "    </tr>\n",
       "    <tr>\n",
       "      <th>1</th>\n",
       "      <td>1</td>\n",
       "      <td>Australia complete sweep\\n\\nThird Test, Sydney...</td>\n",
       "      <td>1</td>\n",
       "    </tr>\n",
       "    <tr>\n",
       "      <th>2</th>\n",
       "      <td>2</td>\n",
       "      <td>UK Athletics agrees new kit deal\\n\\nUK Athleti...</td>\n",
       "      <td>0</td>\n",
       "    </tr>\n",
       "    <tr>\n",
       "      <th>3</th>\n",
       "      <td>3</td>\n",
       "      <td>Bekele sets sights on world mark\\n\\nOlympic 10...</td>\n",
       "      <td>0</td>\n",
       "    </tr>\n",
       "    <tr>\n",
       "      <th>4</th>\n",
       "      <td>4</td>\n",
       "      <td>Captains lining up for Aid match\\n\\nIreland's ...</td>\n",
       "      <td>3</td>\n",
       "    </tr>\n",
       "  </tbody>\n",
       "</table>\n",
       "</div>"
      ],
      "text/plain": [
       "   Unnamed: 0                                               data  labels\n",
       "0           0  England victory tainted by history\\n\\nAs Engla...       1\n",
       "1           1  Australia complete sweep\\n\\nThird Test, Sydney...       1\n",
       "2           2  UK Athletics agrees new kit deal\\n\\nUK Athleti...       0\n",
       "3           3  Bekele sets sights on world mark\\n\\nOlympic 10...       0\n",
       "4           4  Captains lining up for Aid match\\n\\nIreland's ...       3"
      ]
     },
     "execution_count": 10,
     "metadata": {},
     "output_type": "execute_result"
    }
   ],
   "source": [
    "data=[]\n",
    "path = '../Datas/bbc_sports.csv'\n",
    "df = pd.read_csv(path)\n",
    "df.head()"
   ]
  },
  {
   "cell_type": "code",
   "execution_count": 17,
   "id": "9aac2a6a",
   "metadata": {},
   "outputs": [],
   "source": [
    "df['data'] = df['data'].apply(preProcessing)"
   ]
  },
  {
   "cell_type": "code",
   "execution_count": 20,
   "id": "ee3eb8b3",
   "metadata": {},
   "outputs": [
    {
     "data": {
      "text/html": [
       "<div>\n",
       "<style scoped>\n",
       "    .dataframe tbody tr th:only-of-type {\n",
       "        vertical-align: middle;\n",
       "    }\n",
       "\n",
       "    .dataframe tbody tr th {\n",
       "        vertical-align: top;\n",
       "    }\n",
       "\n",
       "    .dataframe thead th {\n",
       "        text-align: right;\n",
       "    }\n",
       "</style>\n",
       "<table border=\"1\" class=\"dataframe\">\n",
       "  <thead>\n",
       "    <tr style=\"text-align: right;\">\n",
       "      <th></th>\n",
       "      <th>Unnamed: 0</th>\n",
       "      <th>data</th>\n",
       "      <th>labels</th>\n",
       "    </tr>\n",
       "  </thead>\n",
       "  <tbody>\n",
       "    <tr>\n",
       "      <th>0</th>\n",
       "      <td>0</td>\n",
       "      <td>england victori taint histori england attempt ...</td>\n",
       "      <td>1</td>\n",
       "    </tr>\n",
       "    <tr>\n",
       "      <th>1</th>\n",
       "      <td>1</td>\n",
       "      <td>australia complet sweep third test sydney day ...</td>\n",
       "      <td>1</td>\n",
       "    </tr>\n",
       "    <tr>\n",
       "      <th>2</th>\n",
       "      <td>2</td>\n",
       "      <td>uk athlet agr new kit deal uk athlet ha agr ne...</td>\n",
       "      <td>0</td>\n",
       "    </tr>\n",
       "    <tr>\n",
       "      <th>3</th>\n",
       "      <td>3</td>\n",
       "      <td>bekel set sight world mark olymp champion kene...</td>\n",
       "      <td>0</td>\n",
       "    </tr>\n",
       "    <tr>\n",
       "      <th>4</th>\n",
       "      <td>4</td>\n",
       "      <td>captain line aid match ireland 's brian o'dris...</td>\n",
       "      <td>3</td>\n",
       "    </tr>\n",
       "    <tr>\n",
       "      <th>...</th>\n",
       "      <td>...</td>\n",
       "      <td>...</td>\n",
       "      <td>...</td>\n",
       "    </tr>\n",
       "    <tr>\n",
       "      <th>727</th>\n",
       "      <td>727</td>\n",
       "      <td>wilkinson injuri toughen england skipper jonni...</td>\n",
       "      <td>3</td>\n",
       "    </tr>\n",
       "    <tr>\n",
       "      <th>728</th>\n",
       "      <td>728</td>\n",
       "      <td>sfa await report mikoliuna scottish footbal as...</td>\n",
       "      <td>2</td>\n",
       "    </tr>\n",
       "    <tr>\n",
       "      <th>729</th>\n",
       "      <td>729</td>\n",
       "      <td>big gun ea san jose top-se american andi roddi...</td>\n",
       "      <td>4</td>\n",
       "    </tr>\n",
       "    <tr>\n",
       "      <th>730</th>\n",
       "      <td>730</td>\n",
       "      <td>collin compet birmingham world commonwealth ch...</td>\n",
       "      <td>0</td>\n",
       "    </tr>\n",
       "    <tr>\n",
       "      <th>731</th>\n",
       "      <td>731</td>\n",
       "      <td>mcclaren target champion leagu middlesbrough b...</td>\n",
       "      <td>2</td>\n",
       "    </tr>\n",
       "  </tbody>\n",
       "</table>\n",
       "<p>732 rows × 3 columns</p>\n",
       "</div>"
      ],
      "text/plain": [
       "     Unnamed: 0                                               data  labels\n",
       "0             0  england victori taint histori england attempt ...       1\n",
       "1             1  australia complet sweep third test sydney day ...       1\n",
       "2             2  uk athlet agr new kit deal uk athlet ha agr ne...       0\n",
       "3             3  bekel set sight world mark olymp champion kene...       0\n",
       "4             4  captain line aid match ireland 's brian o'dris...       3\n",
       "..          ...                                                ...     ...\n",
       "727         727  wilkinson injuri toughen england skipper jonni...       3\n",
       "728         728  sfa await report mikoliuna scottish footbal as...       2\n",
       "729         729  big gun ea san jose top-se american andi roddi...       4\n",
       "730         730  collin compet birmingham world commonwealth ch...       0\n",
       "731         731  mcclaren target champion leagu middlesbrough b...       2\n",
       "\n",
       "[732 rows x 3 columns]"
      ]
     },
     "execution_count": 20,
     "metadata": {},
     "output_type": "execute_result"
    }
   ],
   "source": [
    "df.head(-5)"
   ]
  },
  {
   "cell_type": "markdown",
   "id": "08367cad",
   "metadata": {},
   "source": [
    "### Vectorise the data"
   ]
  },
  {
   "cell_type": "code",
   "execution_count": 21,
   "id": "9ac87964",
   "metadata": {},
   "outputs": [],
   "source": [
    "text = df['data']"
   ]
  },
  {
   "cell_type": "code",
   "execution_count": 23,
   "id": "657c0894",
   "metadata": {},
   "outputs": [],
   "source": [
    "tfidf_vectoriser = TfidfVectorizer()\n",
    "X = tfidf_vectoriser.fit_transform(text)"
   ]
  },
  {
   "cell_type": "code",
   "execution_count": 26,
   "id": "bbee07cf",
   "metadata": {},
   "outputs": [
    {
     "data": {
      "text/plain": [
       "array([1, 1, 0, 0, 3, 2, 4, 4, 2, 0, 0, 2, 0, 1, 1, 1, 3, 2, 2, 0, 2, 4,\n",
       "       2, 1, 2, 2, 1, 2, 3, 4, 0, 4, 4, 1, 2, 2, 2, 3, 0, 2, 2, 0, 2, 2,\n",
       "       2, 3, 3, 2, 2, 0, 3, 3, 2, 3, 3, 2, 2, 4, 3, 3, 2, 3, 3, 2, 3, 2,\n",
       "       3, 3, 2, 2, 3, 3, 2, 3, 1, 4, 4, 3, 2, 2, 1, 4, 1, 0, 2, 3, 2, 3,\n",
       "       2, 1, 0, 0, 2, 1, 3, 4, 2, 3, 1, 2, 3, 4, 4, 2, 3, 3, 4, 2, 2, 2,\n",
       "       1, 2, 2, 0, 3, 1, 4, 1, 2, 3, 0, 1, 0, 2, 2, 2, 0, 3, 2, 0, 0, 3,\n",
       "       0, 2, 2, 2, 1, 2, 2, 3, 2, 1, 1, 4, 2, 2, 2, 0, 3, 2, 3, 2, 3, 2,\n",
       "       0, 3, 3, 2, 2, 3, 4, 4, 4, 3, 0, 2, 0, 4, 2, 2, 1, 3, 3, 1, 1, 2,\n",
       "       2, 1, 2, 0, 3, 3, 0, 3, 3, 2, 0, 2, 2, 2, 1, 2, 1, 2, 4, 2, 3, 2,\n",
       "       4, 2, 2, 4, 2, 2, 1, 1, 2, 2, 0, 3, 2, 4, 2, 2, 4, 1, 2, 2, 3, 1,\n",
       "       2, 3, 0, 1, 2, 2, 2, 2, 3, 1, 2, 2, 2, 0, 0, 4, 0, 2, 3, 3, 2, 4,\n",
       "       3, 4, 3, 4, 0, 2, 2, 4, 0, 2, 0, 3, 2, 3, 3, 1, 2, 2, 2, 0, 2, 2,\n",
       "       2, 1, 4, 2, 1, 2, 1, 3, 2, 1, 2, 1, 2, 1, 1, 4, 3, 1, 0, 3, 2, 3,\n",
       "       0, 4, 1, 0, 0, 1, 3, 2, 1, 1, 3, 1, 2, 1, 1, 1, 3, 2, 2, 4, 3, 1,\n",
       "       2, 3, 4, 3, 1, 0, 2, 3, 4, 0, 1, 2, 1, 2, 2, 3, 2, 4, 4, 2, 3, 2,\n",
       "       3, 3, 4, 2, 2, 2, 3, 1, 4, 4, 0, 0, 2, 1, 2, 3, 2, 2, 3, 1, 2, 0,\n",
       "       2, 4, 2, 4, 1, 3, 2, 4, 1, 0, 0, 2, 4, 0, 2, 3, 4, 2, 4, 0, 0, 2,\n",
       "       2, 3, 2, 4, 3, 1, 3, 2, 1, 0, 2, 3, 3, 2, 2, 2, 3, 1, 1, 1, 2, 0,\n",
       "       2, 2, 4, 3, 2, 2, 2, 3, 1, 0, 3, 3, 2, 2, 2, 2, 1, 2, 0, 2, 2, 0,\n",
       "       3, 3, 2, 4, 0, 1, 4, 1, 2, 2, 4, 0, 4, 2, 2, 2, 2, 4, 2, 2, 1, 4,\n",
       "       2, 2, 2, 1, 0, 4, 0, 2, 4, 4, 1, 4, 2, 2, 2, 3, 2, 3, 3, 1, 1, 1,\n",
       "       3, 3, 1, 1, 0, 0, 2, 4, 1, 3, 4, 2, 2, 4, 2, 3, 0, 4, 2, 0, 3, 2,\n",
       "       3, 2, 1, 1, 2, 1, 3, 0, 3, 3, 4, 3, 2, 2, 4, 3, 4, 2, 0, 0, 2, 1,\n",
       "       4, 1, 2, 2, 0, 4, 1, 3, 3, 1, 1, 2, 2, 4, 4, 3, 4, 1, 1, 2, 3, 2,\n",
       "       4, 2, 4, 3, 2, 0, 0, 0, 2, 0, 4, 1, 2, 4, 2, 2, 0, 2, 3, 4, 3, 3,\n",
       "       1, 3, 3, 2, 1, 1, 3, 4, 4, 4, 2, 0, 0, 2, 1, 1, 2, 1, 1, 1, 2, 3,\n",
       "       2, 3, 3, 3, 2, 2, 2, 1, 3, 2, 2, 1, 2, 0, 1, 1, 1, 3, 2, 1, 2, 2,\n",
       "       4, 2, 2, 2, 0, 2, 2, 2, 2, 0, 3, 2, 2, 3, 4, 2, 1, 2, 4, 4, 2, 4,\n",
       "       1, 0, 0, 2, 0, 0, 0, 0, 0, 0, 2, 3, 1, 1, 3, 1, 3, 0, 2, 1, 0, 4,\n",
       "       3, 2, 3, 2, 1, 2, 3, 3, 2, 2, 2, 3, 1, 0, 4, 1, 3, 2, 3, 2, 2, 1,\n",
       "       1, 1, 4, 0, 2, 1, 0, 3, 3, 3, 2, 0, 0, 2, 1, 2, 0, 2, 2, 4, 2, 0,\n",
       "       3, 2, 2, 2, 2, 3, 0, 4, 1, 0, 1, 2, 3, 4, 1, 2, 3, 3, 4, 4, 2, 2,\n",
       "       2, 1, 4, 1, 0, 2, 2, 4, 1, 0, 3, 4, 4, 1, 0, 3, 2, 4, 2, 2, 3, 2,\n",
       "       0, 3, 2, 4, 0, 2, 4, 1, 3, 3, 4])"
      ]
     },
     "execution_count": 26,
     "metadata": {},
     "output_type": "execute_result"
    }
   ],
   "source": [
    "Y = df['labels'].values\n",
    "Y"
   ]
  },
  {
   "cell_type": "code",
   "execution_count": 28,
   "id": "5b05ad7d",
   "metadata": {},
   "outputs": [
    {
     "name": "stdout",
     "output_type": "stream",
     "text": [
      "(737, 9117) (737,)\n"
     ]
    }
   ],
   "source": [
    "print(X.shape, Y.shape)"
   ]
  },
  {
   "cell_type": "markdown",
   "id": "9da50d4c",
   "metadata": {},
   "source": [
    "### ML algo-1 KNN"
   ]
  },
  {
   "cell_type": "code",
   "execution_count": 30,
   "id": "b9d83ff9",
   "metadata": {},
   "outputs": [],
   "source": [
    "X_train, X_test, Y_train, Y_test = train_test_split(X,Y, test_size=0.2, shuffle=True)"
   ]
  },
  {
   "cell_type": "code",
   "execution_count": 32,
   "id": "73d9536e",
   "metadata": {},
   "outputs": [
    {
     "data": {
      "text/plain": [
       "KNeighborsClassifier(n_neighbors=3)"
      ]
     },
     "execution_count": 32,
     "metadata": {},
     "output_type": "execute_result"
    }
   ],
   "source": [
    "knn = KNeighborsClassifier(n_neighbors=3)\n",
    "knn.fit(X_train, Y_train)"
   ]
  },
  {
   "cell_type": "code",
   "execution_count": 33,
   "id": "b59231e8",
   "metadata": {},
   "outputs": [],
   "source": [
    "pred = knn.predict(X_test)"
   ]
  },
  {
   "cell_type": "code",
   "execution_count": 34,
   "id": "cd2a2a3f",
   "metadata": {},
   "outputs": [
    {
     "name": "stdout",
     "output_type": "stream",
     "text": [
      "              precision    recall  f1-score   support\n",
      "\n",
      "           0       0.96      0.96      0.96        24\n",
      "           1       0.97      1.00      0.98        30\n",
      "           2       1.00      0.96      0.98        52\n",
      "           3       0.96      1.00      0.98        24\n",
      "           4       1.00      1.00      1.00        18\n",
      "\n",
      "    accuracy                           0.98       148\n",
      "   macro avg       0.98      0.98      0.98       148\n",
      "weighted avg       0.98      0.98      0.98       148\n",
      "\n"
     ]
    }
   ],
   "source": [
    "## Report\n",
    "print(classification_report(Y_test, pred))"
   ]
  },
  {
   "cell_type": "code",
   "execution_count": 36,
   "id": "24d173b3",
   "metadata": {},
   "outputs": [
    {
     "name": "stdout",
     "output_type": "stream",
     "text": [
      "accuracy score 0.9797297297297297\n"
     ]
    }
   ],
   "source": [
    "print(\"accuracy score\", accuracy_score(Y_test, pred))"
   ]
  },
  {
   "cell_type": "markdown",
   "id": "8f39e540",
   "metadata": {},
   "source": [
    "### ML Algo-2 SVM"
   ]
  },
  {
   "cell_type": "code",
   "execution_count": 38,
   "id": "48392ea3",
   "metadata": {},
   "outputs": [
    {
     "data": {
      "text/plain": [
       "SVC()"
      ]
     },
     "execution_count": 38,
     "metadata": {},
     "output_type": "execute_result"
    }
   ],
   "source": [
    "sv_model = svm.SVC()\n",
    "sv_model.fit(X_train, Y_train)"
   ]
  },
  {
   "cell_type": "code",
   "execution_count": 39,
   "id": "d0bf5655",
   "metadata": {},
   "outputs": [],
   "source": [
    "pred = sv_model.predict(X_test)"
   ]
  },
  {
   "cell_type": "code",
   "execution_count": 40,
   "id": "a25ff0be",
   "metadata": {},
   "outputs": [
    {
     "name": "stdout",
     "output_type": "stream",
     "text": [
      "Classification report\n",
      "              precision    recall  f1-score   support\n",
      "\n",
      "           0       1.00      0.96      0.98        24\n",
      "           1       1.00      0.97      0.98        30\n",
      "           2       0.90      1.00      0.95        52\n",
      "           3       0.95      0.83      0.89        24\n",
      "           4       1.00      0.94      0.97        18\n",
      "\n",
      "    accuracy                           0.95       148\n",
      "   macro avg       0.97      0.94      0.95       148\n",
      "weighted avg       0.96      0.95      0.95       148\n",
      "\n"
     ]
    }
   ],
   "source": [
    "print(\"Classification report\")\n",
    "print(classification_report(Y_test, pred))"
   ]
  },
  {
   "cell_type": "code",
   "execution_count": null,
   "id": "08db702f",
   "metadata": {},
   "outputs": [],
   "source": [
    "print(\"Accuracry score\")\n",
    "print(accuracy_score(Y_test, pre)"
   ]
  }
 ],
 "metadata": {
  "kernelspec": {
   "display_name": "Python 3",
   "language": "python",
   "name": "python3"
  },
  "language_info": {
   "codemirror_mode": {
    "name": "ipython",
    "version": 3
   },
   "file_extension": ".py",
   "mimetype": "text/x-python",
   "name": "python",
   "nbconvert_exporter": "python",
   "pygments_lexer": "ipython3",
   "version": "3.8.8"
  }
 },
 "nbformat": 4,
 "nbformat_minor": 5
}
